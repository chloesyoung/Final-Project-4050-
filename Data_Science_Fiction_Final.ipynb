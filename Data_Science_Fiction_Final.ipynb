{
  "nbformat": 4,
  "nbformat_minor": 0,
  "metadata": {
    "colab": {
      "provenance": [],
      "toc_visible": true
    },
    "kernelspec": {
      "name": "python3",
      "display_name": "Python 3"
    },
    "language_info": {
      "name": "python"
    }
  },
  "cells": [
    {
      "cell_type": "markdown",
      "source": [
        "Chloe Young\n"
      ],
      "metadata": {
        "id": "SHlLIAQrj52p"
      }
    },
    {
      "cell_type": "markdown",
      "source": [],
      "metadata": {
        "id": "db0hzhol0CJ5"
      }
    },
    {
      "cell_type": "markdown",
      "source": [
        "## The Instructions\n",
        "\n",
        "* Create a story that has a binary outcome (see the Create Story section)\n",
        "* Create a dataset by running the cells in the Create Dataset section\n",
        "* Prepare the dataset (see The Data section)\n",
        "* Run a logistic regression model on your dataset\n",
        "* Evaluate the model using an accuracy score, a confusion matrix, and a classification report\n",
        "* Summarize / discuss your findings"
      ],
      "metadata": {
        "id": "tfqU0Bfetut4"
      }
    },
    {
      "cell_type": "code",
      "source": [],
      "metadata": {
        "id": "HETn7rZNePcd"
      },
      "execution_count": null,
      "outputs": []
    },
    {
      "cell_type": "markdown",
      "source": [
        "## The Story"
      ],
      "metadata": {
        "id": "WBewK3LoolEN"
      }
    },
    {
      "cell_type": "markdown",
      "source": [
        "The Kepler Trials: A Quest for the Ultimate Intergaltic Love\n",
        "\n",
        "On the gleaming chrome surface of Kepler Base, nestled within a Martian crater, humanity's future hung in the balance. The Kepler Trials, a grueling series of assessments, were underway, searching for the ideal candidate to spearhead humanity's first interstellar colonization mission. Amongst the hopefuls was Maya, a young woman with a fire in her eyes and a fierce determination to forge a new home amongst the stars.\n",
        "\n",
        "Maya knew the Trials wouldn't be easy. Each test measured a crucial aspect of a potential colonizer. The \"Adaptability\" test threw her into a series of simulated alien environments, forcing her to improvise solutions on the fly. Her score – 311.026 – reflected her quick thinking and resourcefulness.\n",
        "\n",
        "The \"Resourcefulness\" test was a brutal affair, pushing Maya to her physical and mental limits. With a score of 3.26, she demonstrated an ability to make the most of limited resources, a skill essential for surviving on an unknown planet.\n",
        "\n",
        "The \"Physical Health\" test was a battery of medical and fitness evaluations. Maya's score – a stellar 315.209 – was a testament to her rigorous training regime. Colonization wouldn't be a walk in the park, and robust health was paramount.\n",
        "\n",
        "\"Scientific and Technical Expertise\" wasn't Maya's strongest suit. Her score of 7.81 indicated a decent grasp of scientific principles, but she knew others excelled in this area. However, Maya compensated for this with her \"Mental Fortitude\" score of 98.89 – an unwavering mental strength that would help her persevere through the challenges ahead.\n",
        "\n",
        "The final assessment, \"Genetic Diversity,\" remained shrouded in mystery. The purpose of this test and its impact on the selection process was a closely guarded secret. Maya's data point for this category was simply marked with an \"X,\" fueling speculation amongst the candidates.\n",
        "\n",
        "As the Trials progressed, Maya found herself forging unexpected bonds with her fellow contenders. Each possessed their own strengths and weaknesses, forming a unique tapestry of skills necessary for successful colonization.\n",
        "\n",
        "The final selection day arrived, and Maya held her breath as the results were announced. The chosen candidate wasn't the one with the highest scores across the board. Instead, the committee valued a balanced blend of skills and a deep-seated yearning for exploration. To Maya's surprise and elation, her name was called.\n",
        "\n",
        "Maya's journey was a testament to the fact that colonization wasn't just about physical prowess or scientific knowledge. It demanded a combination of adaptability, resourcefulness, mental fortitude, and a willingness to venture into the unknown. As she boarded the interstellar vessel, ready to lead humanity's first foray beyond the solar system, Maya carried not only the burden of responsibility but also the hopes and dreams of a species yearning for a new home. allowed Nova and Zork to find a connection that transcended species and defied the ordinary.\n",
        "\n",
        "Their story became a viral sensation in Neos City, a testament to the power of embracing one's quirkiness and the magic that unfolds when two unique souls connect over a shared love for the unexpected wonders of the cosmos. Soon, other dating apps scrambled to integrate similar features, leading to a renaissance of genuine connections within the digital world."
      ],
      "metadata": {
        "id": "narSRBdnXErP"
      }
    },
    {
      "cell_type": "markdown",
      "source": [
        "### Create Dataset"
      ],
      "metadata": {
        "id": "bJWQk7IpuBOe"
      }
    },
    {
      "cell_type": "markdown",
      "source": [],
      "metadata": {
        "id": "Uvkte-zIXFrR"
      }
    },
    {
      "cell_type": "code",
      "source": [
        "pip install Faker"
      ],
      "metadata": {
        "id": "hWAgPcHYVrWy",
        "colab": {
          "base_uri": "https://localhost:8080/"
        },
        "outputId": "40c7c78f-79b7-4d97-eb94-c1baf649d286"
      },
      "execution_count": null,
      "outputs": [
        {
          "output_type": "stream",
          "name": "stdout",
          "text": [
            "Requirement already satisfied: Faker in /usr/local/lib/python3.10/dist-packages (25.0.0)\n",
            "Requirement already satisfied: python-dateutil>=2.4 in /usr/local/lib/python3.10/dist-packages (from Faker) (2.8.2)\n",
            "Requirement already satisfied: six>=1.5 in /usr/local/lib/python3.10/dist-packages (from python-dateutil>=2.4->Faker) (1.16.0)\n"
          ]
        }
      ]
    },
    {
      "cell_type": "code",
      "source": [
        "state_names=[\"Alabama\", \"Alaska\", \"Arizona\", \"Arkansas\", \"California\", \"Colorado\", \"Connecticut\", \"Delaware\", \"Florida\", \"Georgia\", \"Hawaii\", \"Idaho\", \"Illinois\", \"Indiana\", \"Iowa\", \"Kansas\", \"Kentucky\", \"Louisiana\", \"Maine\", \"Maryland\", \"Massachusetts\", \"Michigan\", \"Minnesota\", \"Mississippi\", \"Missouri\", \"Montana\", \"Nebraska\", \"Nevada\", \"New Hampshire\", \"New Jersey\", \"New Mexico\", \"New York\", \"North Carolina\", \"North Dakota\", \"Ohio\", \"Oklahoma\", \"Oregon\", \"Pennsylvania\", \"Rhode Island\", \"South Carolina\", \"South Dakota\", \"Tennessee\", \"Texas\", \"Utah\", \"Vermont\", \"Virginia\", \"Washington\", \"West Virginia\", \"Wisconsin\", \"Wyoming\"]"
      ],
      "metadata": {
        "id": "yPQ82_SRki8p"
      },
      "execution_count": null,
      "outputs": []
    },
    {
      "cell_type": "code",
      "source": [
        "# https://stackoverflow.com/questions/65678496/linking-first-name-and-gender-in-faker-library\n",
        "# https://stackoverflow.com/questions/20638006/convert-list-of-dictionaries-to-a-pandas-dataframe\n",
        "# https://www.quora.com/What-are-some-different-perspectives-to-view-gender\n",
        "import numpy as np\n",
        "import pandas as pd\n",
        "from faker import Faker\n",
        "fake = Faker()\n",
        "\n",
        "output = []\n",
        "for x in range(1000):\n",
        "  binary = np.random.choice(['binary_1', 'binary_2'], p=[0.5, 0.5])\n",
        "  output.append(\n",
        "    {\n",
        "        'binary': binary,\n",
        "        'ohe': np.random.choice(['ohe_1', 'ohe_2', 'ohe_3', 'ohe_4']),\n",
        "        'given_name': fake.first_name_female() if binary=='binary_1' else fake.first_name_male(),\n",
        "        'surname': fake.last_name(),\n",
        "        'zipcode': fake.zipcode(),\n",
        "        'date_of_birth': fake.date_of_birth(),\n",
        "        'state': np.random.choice(state_names),\n",
        "        })\n",
        "\n",
        "demographics = pd.DataFrame(output)\n",
        "demographics.head()"
      ],
      "metadata": {
        "colab": {
          "base_uri": "https://localhost:8080/",
          "height": 206
        },
        "id": "rBn_ho08fVJl",
        "outputId": "487f05fd-9a82-4ce4-b7de-1a783396cd55"
      },
      "execution_count": null,
      "outputs": [
        {
          "output_type": "execute_result",
          "data": {
            "text/plain": [
              "     binary    ohe given_name surname zipcode date_of_birth          state\n",
              "0  binary_2  ohe_1     Daniel   James   71505    1948-07-10  West Virginia\n",
              "1  binary_1  ohe_3    Jasmine  Murphy   44631    2021-11-15        Wyoming\n",
              "2  binary_2  ohe_2      David  Hughes   74924    1933-04-13    Connecticut\n",
              "3  binary_1  ohe_4     Rachel   Bowen   76847    1944-10-26       Virginia\n",
              "4  binary_1  ohe_1      Holly    Hall   73558    1925-11-28      Minnesota"
            ],
            "text/html": [
              "\n",
              "  <div id=\"df-5f9af505-b80e-430d-8e99-203a0232c785\" class=\"colab-df-container\">\n",
              "    <div>\n",
              "<style scoped>\n",
              "    .dataframe tbody tr th:only-of-type {\n",
              "        vertical-align: middle;\n",
              "    }\n",
              "\n",
              "    .dataframe tbody tr th {\n",
              "        vertical-align: top;\n",
              "    }\n",
              "\n",
              "    .dataframe thead th {\n",
              "        text-align: right;\n",
              "    }\n",
              "</style>\n",
              "<table border=\"1\" class=\"dataframe\">\n",
              "  <thead>\n",
              "    <tr style=\"text-align: right;\">\n",
              "      <th></th>\n",
              "      <th>binary</th>\n",
              "      <th>ohe</th>\n",
              "      <th>given_name</th>\n",
              "      <th>surname</th>\n",
              "      <th>zipcode</th>\n",
              "      <th>date_of_birth</th>\n",
              "      <th>state</th>\n",
              "    </tr>\n",
              "  </thead>\n",
              "  <tbody>\n",
              "    <tr>\n",
              "      <th>0</th>\n",
              "      <td>binary_2</td>\n",
              "      <td>ohe_1</td>\n",
              "      <td>Daniel</td>\n",
              "      <td>James</td>\n",
              "      <td>71505</td>\n",
              "      <td>1948-07-10</td>\n",
              "      <td>West Virginia</td>\n",
              "    </tr>\n",
              "    <tr>\n",
              "      <th>1</th>\n",
              "      <td>binary_1</td>\n",
              "      <td>ohe_3</td>\n",
              "      <td>Jasmine</td>\n",
              "      <td>Murphy</td>\n",
              "      <td>44631</td>\n",
              "      <td>2021-11-15</td>\n",
              "      <td>Wyoming</td>\n",
              "    </tr>\n",
              "    <tr>\n",
              "      <th>2</th>\n",
              "      <td>binary_2</td>\n",
              "      <td>ohe_2</td>\n",
              "      <td>David</td>\n",
              "      <td>Hughes</td>\n",
              "      <td>74924</td>\n",
              "      <td>1933-04-13</td>\n",
              "      <td>Connecticut</td>\n",
              "    </tr>\n",
              "    <tr>\n",
              "      <th>3</th>\n",
              "      <td>binary_1</td>\n",
              "      <td>ohe_4</td>\n",
              "      <td>Rachel</td>\n",
              "      <td>Bowen</td>\n",
              "      <td>76847</td>\n",
              "      <td>1944-10-26</td>\n",
              "      <td>Virginia</td>\n",
              "    </tr>\n",
              "    <tr>\n",
              "      <th>4</th>\n",
              "      <td>binary_1</td>\n",
              "      <td>ohe_1</td>\n",
              "      <td>Holly</td>\n",
              "      <td>Hall</td>\n",
              "      <td>73558</td>\n",
              "      <td>1925-11-28</td>\n",
              "      <td>Minnesota</td>\n",
              "    </tr>\n",
              "  </tbody>\n",
              "</table>\n",
              "</div>\n",
              "    <div class=\"colab-df-buttons\">\n",
              "\n",
              "  <div class=\"colab-df-container\">\n",
              "    <button class=\"colab-df-convert\" onclick=\"convertToInteractive('df-5f9af505-b80e-430d-8e99-203a0232c785')\"\n",
              "            title=\"Convert this dataframe to an interactive table.\"\n",
              "            style=\"display:none;\">\n",
              "\n",
              "  <svg xmlns=\"http://www.w3.org/2000/svg\" height=\"24px\" viewBox=\"0 -960 960 960\">\n",
              "    <path d=\"M120-120v-720h720v720H120Zm60-500h600v-160H180v160Zm220 220h160v-160H400v160Zm0 220h160v-160H400v160ZM180-400h160v-160H180v160Zm440 0h160v-160H620v160ZM180-180h160v-160H180v160Zm440 0h160v-160H620v160Z\"/>\n",
              "  </svg>\n",
              "    </button>\n",
              "\n",
              "  <style>\n",
              "    .colab-df-container {\n",
              "      display:flex;\n",
              "      gap: 12px;\n",
              "    }\n",
              "\n",
              "    .colab-df-convert {\n",
              "      background-color: #E8F0FE;\n",
              "      border: none;\n",
              "      border-radius: 50%;\n",
              "      cursor: pointer;\n",
              "      display: none;\n",
              "      fill: #1967D2;\n",
              "      height: 32px;\n",
              "      padding: 0 0 0 0;\n",
              "      width: 32px;\n",
              "    }\n",
              "\n",
              "    .colab-df-convert:hover {\n",
              "      background-color: #E2EBFA;\n",
              "      box-shadow: 0px 1px 2px rgba(60, 64, 67, 0.3), 0px 1px 3px 1px rgba(60, 64, 67, 0.15);\n",
              "      fill: #174EA6;\n",
              "    }\n",
              "\n",
              "    .colab-df-buttons div {\n",
              "      margin-bottom: 4px;\n",
              "    }\n",
              "\n",
              "    [theme=dark] .colab-df-convert {\n",
              "      background-color: #3B4455;\n",
              "      fill: #D2E3FC;\n",
              "    }\n",
              "\n",
              "    [theme=dark] .colab-df-convert:hover {\n",
              "      background-color: #434B5C;\n",
              "      box-shadow: 0px 1px 3px 1px rgba(0, 0, 0, 0.15);\n",
              "      filter: drop-shadow(0px 1px 2px rgba(0, 0, 0, 0.3));\n",
              "      fill: #FFFFFF;\n",
              "    }\n",
              "  </style>\n",
              "\n",
              "    <script>\n",
              "      const buttonEl =\n",
              "        document.querySelector('#df-5f9af505-b80e-430d-8e99-203a0232c785 button.colab-df-convert');\n",
              "      buttonEl.style.display =\n",
              "        google.colab.kernel.accessAllowed ? 'block' : 'none';\n",
              "\n",
              "      async function convertToInteractive(key) {\n",
              "        const element = document.querySelector('#df-5f9af505-b80e-430d-8e99-203a0232c785');\n",
              "        const dataTable =\n",
              "          await google.colab.kernel.invokeFunction('convertToInteractive',\n",
              "                                                    [key], {});\n",
              "        if (!dataTable) return;\n",
              "\n",
              "        const docLinkHtml = 'Like what you see? Visit the ' +\n",
              "          '<a target=\"_blank\" href=https://colab.research.google.com/notebooks/data_table.ipynb>data table notebook</a>'\n",
              "          + ' to learn more about interactive tables.';\n",
              "        element.innerHTML = '';\n",
              "        dataTable['output_type'] = 'display_data';\n",
              "        await google.colab.output.renderOutput(dataTable, element);\n",
              "        const docLink = document.createElement('div');\n",
              "        docLink.innerHTML = docLinkHtml;\n",
              "        element.appendChild(docLink);\n",
              "      }\n",
              "    </script>\n",
              "  </div>\n",
              "\n",
              "\n",
              "<div id=\"df-e4d64e8d-f82e-46de-aed8-b0e412c742e1\">\n",
              "  <button class=\"colab-df-quickchart\" onclick=\"quickchart('df-e4d64e8d-f82e-46de-aed8-b0e412c742e1')\"\n",
              "            title=\"Suggest charts\"\n",
              "            style=\"display:none;\">\n",
              "\n",
              "<svg xmlns=\"http://www.w3.org/2000/svg\" height=\"24px\"viewBox=\"0 0 24 24\"\n",
              "     width=\"24px\">\n",
              "    <g>\n",
              "        <path d=\"M19 3H5c-1.1 0-2 .9-2 2v14c0 1.1.9 2 2 2h14c1.1 0 2-.9 2-2V5c0-1.1-.9-2-2-2zM9 17H7v-7h2v7zm4 0h-2V7h2v10zm4 0h-2v-4h2v4z\"/>\n",
              "    </g>\n",
              "</svg>\n",
              "  </button>\n",
              "\n",
              "<style>\n",
              "  .colab-df-quickchart {\n",
              "      --bg-color: #E8F0FE;\n",
              "      --fill-color: #1967D2;\n",
              "      --hover-bg-color: #E2EBFA;\n",
              "      --hover-fill-color: #174EA6;\n",
              "      --disabled-fill-color: #AAA;\n",
              "      --disabled-bg-color: #DDD;\n",
              "  }\n",
              "\n",
              "  [theme=dark] .colab-df-quickchart {\n",
              "      --bg-color: #3B4455;\n",
              "      --fill-color: #D2E3FC;\n",
              "      --hover-bg-color: #434B5C;\n",
              "      --hover-fill-color: #FFFFFF;\n",
              "      --disabled-bg-color: #3B4455;\n",
              "      --disabled-fill-color: #666;\n",
              "  }\n",
              "\n",
              "  .colab-df-quickchart {\n",
              "    background-color: var(--bg-color);\n",
              "    border: none;\n",
              "    border-radius: 50%;\n",
              "    cursor: pointer;\n",
              "    display: none;\n",
              "    fill: var(--fill-color);\n",
              "    height: 32px;\n",
              "    padding: 0;\n",
              "    width: 32px;\n",
              "  }\n",
              "\n",
              "  .colab-df-quickchart:hover {\n",
              "    background-color: var(--hover-bg-color);\n",
              "    box-shadow: 0 1px 2px rgba(60, 64, 67, 0.3), 0 1px 3px 1px rgba(60, 64, 67, 0.15);\n",
              "    fill: var(--button-hover-fill-color);\n",
              "  }\n",
              "\n",
              "  .colab-df-quickchart-complete:disabled,\n",
              "  .colab-df-quickchart-complete:disabled:hover {\n",
              "    background-color: var(--disabled-bg-color);\n",
              "    fill: var(--disabled-fill-color);\n",
              "    box-shadow: none;\n",
              "  }\n",
              "\n",
              "  .colab-df-spinner {\n",
              "    border: 2px solid var(--fill-color);\n",
              "    border-color: transparent;\n",
              "    border-bottom-color: var(--fill-color);\n",
              "    animation:\n",
              "      spin 1s steps(1) infinite;\n",
              "  }\n",
              "\n",
              "  @keyframes spin {\n",
              "    0% {\n",
              "      border-color: transparent;\n",
              "      border-bottom-color: var(--fill-color);\n",
              "      border-left-color: var(--fill-color);\n",
              "    }\n",
              "    20% {\n",
              "      border-color: transparent;\n",
              "      border-left-color: var(--fill-color);\n",
              "      border-top-color: var(--fill-color);\n",
              "    }\n",
              "    30% {\n",
              "      border-color: transparent;\n",
              "      border-left-color: var(--fill-color);\n",
              "      border-top-color: var(--fill-color);\n",
              "      border-right-color: var(--fill-color);\n",
              "    }\n",
              "    40% {\n",
              "      border-color: transparent;\n",
              "      border-right-color: var(--fill-color);\n",
              "      border-top-color: var(--fill-color);\n",
              "    }\n",
              "    60% {\n",
              "      border-color: transparent;\n",
              "      border-right-color: var(--fill-color);\n",
              "    }\n",
              "    80% {\n",
              "      border-color: transparent;\n",
              "      border-right-color: var(--fill-color);\n",
              "      border-bottom-color: var(--fill-color);\n",
              "    }\n",
              "    90% {\n",
              "      border-color: transparent;\n",
              "      border-bottom-color: var(--fill-color);\n",
              "    }\n",
              "  }\n",
              "</style>\n",
              "\n",
              "  <script>\n",
              "    async function quickchart(key) {\n",
              "      const quickchartButtonEl =\n",
              "        document.querySelector('#' + key + ' button');\n",
              "      quickchartButtonEl.disabled = true;  // To prevent multiple clicks.\n",
              "      quickchartButtonEl.classList.add('colab-df-spinner');\n",
              "      try {\n",
              "        const charts = await google.colab.kernel.invokeFunction(\n",
              "            'suggestCharts', [key], {});\n",
              "      } catch (error) {\n",
              "        console.error('Error during call to suggestCharts:', error);\n",
              "      }\n",
              "      quickchartButtonEl.classList.remove('colab-df-spinner');\n",
              "      quickchartButtonEl.classList.add('colab-df-quickchart-complete');\n",
              "    }\n",
              "    (() => {\n",
              "      let quickchartButtonEl =\n",
              "        document.querySelector('#df-e4d64e8d-f82e-46de-aed8-b0e412c742e1 button');\n",
              "      quickchartButtonEl.style.display =\n",
              "        google.colab.kernel.accessAllowed ? 'block' : 'none';\n",
              "    })();\n",
              "  </script>\n",
              "</div>\n",
              "\n",
              "    </div>\n",
              "  </div>\n"
            ],
            "application/vnd.google.colaboratory.intrinsic+json": {
              "type": "dataframe",
              "variable_name": "demographics",
              "summary": "{\n  \"name\": \"demographics\",\n  \"rows\": 1000,\n  \"fields\": [\n    {\n      \"column\": \"binary\",\n      \"properties\": {\n        \"dtype\": \"category\",\n        \"num_unique_values\": 2,\n        \"samples\": [\n          \"binary_1\",\n          \"binary_2\"\n        ],\n        \"semantic_type\": \"\",\n        \"description\": \"\"\n      }\n    },\n    {\n      \"column\": \"ohe\",\n      \"properties\": {\n        \"dtype\": \"category\",\n        \"num_unique_values\": 4,\n        \"samples\": [\n          \"ohe_3\",\n          \"ohe_4\"\n        ],\n        \"semantic_type\": \"\",\n        \"description\": \"\"\n      }\n    },\n    {\n      \"column\": \"given_name\",\n      \"properties\": {\n        \"dtype\": \"category\",\n        \"num_unique_values\": 361,\n        \"samples\": [\n          \"Jacob\",\n          \"Kelly\"\n        ],\n        \"semantic_type\": \"\",\n        \"description\": \"\"\n      }\n    },\n    {\n      \"column\": \"surname\",\n      \"properties\": {\n        \"dtype\": \"string\",\n        \"num_unique_values\": 504,\n        \"samples\": [\n          \"Bender\",\n          \"Hill\"\n        ],\n        \"semantic_type\": \"\",\n        \"description\": \"\"\n      }\n    },\n    {\n      \"column\": \"zipcode\",\n      \"properties\": {\n        \"dtype\": \"string\",\n        \"num_unique_values\": 997,\n        \"samples\": [\n          \"18293\",\n          \"04247\"\n        ],\n        \"semantic_type\": \"\",\n        \"description\": \"\"\n      }\n    },\n    {\n      \"column\": \"date_of_birth\",\n      \"properties\": {\n        \"dtype\": \"date\",\n        \"min\": \"1908-05-15\",\n        \"max\": \"2024-03-24\",\n        \"num_unique_values\": 992,\n        \"samples\": [\n          \"1934-09-03\",\n          \"1989-05-19\"\n        ],\n        \"semantic_type\": \"\",\n        \"description\": \"\"\n      }\n    },\n    {\n      \"column\": \"state\",\n      \"properties\": {\n        \"dtype\": \"category\",\n        \"num_unique_values\": 50,\n        \"samples\": [\n          \"Texas\",\n          \"Tennessee\"\n        ],\n        \"semantic_type\": \"\",\n        \"description\": \"\"\n      }\n    }\n  ]\n}"
            }
          },
          "metadata": {},
          "execution_count": 33
        }
      ]
    },
    {
      "cell_type": "code",
      "source": [
        "import pandas as pd\n",
        "import numpy as np\n",
        "import random\n",
        "import re\n",
        "from sklearn.datasets import make_classification\n",
        "import matplotlib.pyplot as plt\n",
        "\n",
        "def make_null(r, w):\n",
        "    rtn = random.choices([np.nan, r], weights=[w, 1000-w])\n",
        "    return re.sub(r\"[\\[\\]]\",'', str(rtn))\n",
        "\n",
        "# unpacking\n",
        "features, binary_class = make_classification(n_samples=1000, n_features=6,\n",
        "                                             n_informative=2, n_redundant=2,\n",
        "                                             n_repeated=2,\n",
        "                                             n_classes=3,\n",
        "                                             n_clusters_per_class = 1,\n",
        "                                             random_state=42)\n",
        "\n",
        "\n",
        "# attributes =\n",
        "\n",
        "\n",
        "#  [\n",
        "#     \"Genetic Diversity\",\n",
        "#     \"Adaptability\",\n",
        "#     \"Resourcefulness\",\n",
        "#     \"Physical Health\",\n",
        "#     \"Mental Fortitude\",\n",
        "#     \"Scientific and Technical Expertise\",\n",
        "#     \"Agricultural Knowledge\",\n",
        "#     \"Leadership\",\n",
        "#     \"Social Cohesion\",\n",
        "#     \"Empathy and Compassion\",\n",
        "#     \"Mechanical Aptitude\",\n",
        "#     \"Ethical Decision-Making\",\n",
        "#     \"Diplomacy and Conflict Resolution\",\n",
        "#     \"Artistic and Creative Expression\",\n",
        "#     \"Historical Knowledge\",\n",
        "#     \"Spiritual Well-Being\",\n",
        "#     \"Environmental Awareness\",\n",
        "#     \"Curiosity and Open-Mindedness\",\n",
        "#     \"Resilient Sense of Humor\",\n",
        "#     \"Love of Learning\"\n",
        "# ]\n",
        "\n",
        "cols = ['Genetic Diversity', 'Adaptabilityr', 'Resourcefulness', 'Physical Health', 'Mental Fortitude', 'Scientific and Technical Expertise']\n",
        "random.shuffle(cols)\n",
        "df = pd.DataFrame(data=features, columns=cols)\n",
        "df['Agricultural Knowledge'] = round(df[cols[0]], 2)\n",
        "df['Leadership'] = df['Agricultural Knowledge']\n",
        "df['Social Cohesion'] = 0.13\n",
        "df['Empathy and Compassion'] = pd.NA\n",
        "df['Empathy and Compassion'] = df['Empathy and Compassion'].apply(lambda x: np.random.choice(['label_1', 'label_2'], p=[0.02, 0.98]))\n",
        "\n",
        "df[cols[0]] = df[cols[0]].apply(lambda r: abs(r) if (r < -0.02) else r)\n",
        "df[cols[1]] = df[cols[1]].apply(lambda r: abs(r)*-1 if (r > 0.01) else r)\n",
        "df[cols[2]] = df[cols[2]].apply(lambda r: abs(r) if (r < -0.01) else r)\n",
        "\n",
        "df['Mechanical Aptitude'] = random.sample(range(10000, 30000), 1000)\n",
        "df['Ethical Decision-Making'] = random.sample(range(1000, 3000), 1000)\n",
        "df[cols[0]] = df[cols[0]].apply(make_null, args=(4,))\n",
        "df[cols[1]] = df[cols[1]].apply(make_null, args=(5,))\n",
        "df[cols[2]] = df[cols[2]].apply(make_null, args=(6,))\n",
        "df[cols[3]] = df[cols[3]].apply(make_null, args=(4,))\n",
        "df[cols[4]] = df[cols[4]].apply(make_null, args=(5,))\n",
        "df[cols[5]] = df[cols[5]].apply(make_null, args=(6,))\n",
        "\n",
        "df = df[np.random.default_rng().permutation(df.columns.values)]\n",
        "df = pd.concat([df, demographics], axis=1)\n",
        "df['binary'] = df['binary'].apply(make_null, args=(5,))\n",
        "df['state'] = df['state'].apply(make_null, args=(5,))\n",
        "df['class'] = binary_class\n",
        "\n",
        "dupes = df.loc[0:7]\n",
        "df = pd.concat([df, dupes], axis=0)\n",
        "df = df.sample(frac=1).reset_index(drop=True)\n",
        "\n",
        "df.to_csv('my_data_science_fiction_story.csv')\n",
        "\n",
        "print(df.shape)\n",
        "print(df.info())\n",
        "df.head()"
      ],
      "metadata": {
        "id": "RjoHeyBacetI",
        "colab": {
          "base_uri": "https://localhost:8080/",
          "height": 216
        },
        "outputId": "ff6c4715-17c1-4db9-e1e5-fbde7cf94b4c"
      },
      "execution_count": null,
      "outputs": [
        {
          "output_type": "error",
          "ename": "NameError",
          "evalue": "name 'demographics' is not defined",
          "traceback": [
            "\u001b[0;31m---------------------------------------------------------------------------\u001b[0m",
            "\u001b[0;31mNameError\u001b[0m                                 Traceback (most recent call last)",
            "\u001b[0;32m<ipython-input-1-1631d4d3a6a9>\u001b[0m in \u001b[0;36m<cell line: 70>\u001b[0;34m()\u001b[0m\n\u001b[1;32m     68\u001b[0m \u001b[0;34m\u001b[0m\u001b[0m\n\u001b[1;32m     69\u001b[0m \u001b[0mdf\u001b[0m \u001b[0;34m=\u001b[0m \u001b[0mdf\u001b[0m\u001b[0;34m[\u001b[0m\u001b[0mnp\u001b[0m\u001b[0;34m.\u001b[0m\u001b[0mrandom\u001b[0m\u001b[0;34m.\u001b[0m\u001b[0mdefault_rng\u001b[0m\u001b[0;34m(\u001b[0m\u001b[0;34m)\u001b[0m\u001b[0;34m.\u001b[0m\u001b[0mpermutation\u001b[0m\u001b[0;34m(\u001b[0m\u001b[0mdf\u001b[0m\u001b[0;34m.\u001b[0m\u001b[0mcolumns\u001b[0m\u001b[0;34m.\u001b[0m\u001b[0mvalues\u001b[0m\u001b[0;34m)\u001b[0m\u001b[0;34m]\u001b[0m\u001b[0;34m\u001b[0m\u001b[0;34m\u001b[0m\u001b[0m\n\u001b[0;32m---> 70\u001b[0;31m \u001b[0mdf\u001b[0m \u001b[0;34m=\u001b[0m \u001b[0mpd\u001b[0m\u001b[0;34m.\u001b[0m\u001b[0mconcat\u001b[0m\u001b[0;34m(\u001b[0m\u001b[0;34m[\u001b[0m\u001b[0mdf\u001b[0m\u001b[0;34m,\u001b[0m \u001b[0mdemographics\u001b[0m\u001b[0;34m]\u001b[0m\u001b[0;34m,\u001b[0m \u001b[0maxis\u001b[0m\u001b[0;34m=\u001b[0m\u001b[0;36m1\u001b[0m\u001b[0;34m)\u001b[0m\u001b[0;34m\u001b[0m\u001b[0;34m\u001b[0m\u001b[0m\n\u001b[0m\u001b[1;32m     71\u001b[0m \u001b[0mdf\u001b[0m\u001b[0;34m[\u001b[0m\u001b[0;34m'binary'\u001b[0m\u001b[0;34m]\u001b[0m \u001b[0;34m=\u001b[0m \u001b[0mdf\u001b[0m\u001b[0;34m[\u001b[0m\u001b[0;34m'binary'\u001b[0m\u001b[0;34m]\u001b[0m\u001b[0;34m.\u001b[0m\u001b[0mapply\u001b[0m\u001b[0;34m(\u001b[0m\u001b[0mmake_null\u001b[0m\u001b[0;34m,\u001b[0m \u001b[0margs\u001b[0m\u001b[0;34m=\u001b[0m\u001b[0;34m(\u001b[0m\u001b[0;36m5\u001b[0m\u001b[0;34m,\u001b[0m\u001b[0;34m)\u001b[0m\u001b[0;34m)\u001b[0m\u001b[0;34m\u001b[0m\u001b[0;34m\u001b[0m\u001b[0m\n\u001b[1;32m     72\u001b[0m \u001b[0mdf\u001b[0m\u001b[0;34m[\u001b[0m\u001b[0;34m'state'\u001b[0m\u001b[0;34m]\u001b[0m \u001b[0;34m=\u001b[0m \u001b[0mdf\u001b[0m\u001b[0;34m[\u001b[0m\u001b[0;34m'state'\u001b[0m\u001b[0;34m]\u001b[0m\u001b[0;34m.\u001b[0m\u001b[0mapply\u001b[0m\u001b[0;34m(\u001b[0m\u001b[0mmake_null\u001b[0m\u001b[0;34m,\u001b[0m \u001b[0margs\u001b[0m\u001b[0;34m=\u001b[0m\u001b[0;34m(\u001b[0m\u001b[0;36m5\u001b[0m\u001b[0;34m,\u001b[0m\u001b[0;34m)\u001b[0m\u001b[0;34m)\u001b[0m\u001b[0;34m\u001b[0m\u001b[0;34m\u001b[0m\u001b[0m\n",
            "\u001b[0;31mNameError\u001b[0m: name 'demographics' is not defined"
          ]
        }
      ]
    },
    {
      "cell_type": "code",
      "source": [
        "import pandas as pd\n",
        "\n",
        "df = pd.read_csv('my_data_science_fiction_story.csv', index_col=0)\n",
        "print(df.shape)\n",
        "print(df.info())\n",
        "df.head()"
      ],
      "metadata": {
        "colab": {
          "base_uri": "https://localhost:8080/",
          "height": 796
        },
        "id": "aAJjL3qytBye",
        "outputId": "5252a4df-1140-4dc5-d238-16b57af5857f"
      },
      "execution_count": null,
      "outputs": [
        {
          "output_type": "stream",
          "name": "stdout",
          "text": [
            "(1008, 20)\n",
            "<class 'pandas.core.frame.DataFrame'>\n",
            "Index: 1008 entries, 0 to 1007\n",
            "Data columns (total 20 columns):\n",
            " #   Column                              Non-Null Count  Dtype  \n",
            "---  ------                              --------------  -----  \n",
            " 0   Agricultural Knowledge              1008 non-null   float64\n",
            " 1   Leadership                          1008 non-null   float64\n",
            " 2   Adaptabilityr                       1003 non-null   float64\n",
            " 3   Ethical Decision-Making             1008 non-null   int64  \n",
            " 4   Mechanical Aptitude                 1008 non-null   int64  \n",
            " 5   Genetic Diversity                   1002 non-null   float64\n",
            " 6   Empathy and Compassion              1008 non-null   object \n",
            " 7   Social Cohesion                     1008 non-null   float64\n",
            " 8   Scientific and Technical Expertise  1004 non-null   float64\n",
            " 9   Mental Fortitude                    1001 non-null   float64\n",
            " 10  Physical Health                     1004 non-null   float64\n",
            " 11  Resourcefulness                     1008 non-null   float64\n",
            " 12  binary                              1002 non-null   object \n",
            " 13  ohe                                 1008 non-null   object \n",
            " 14  given_name                          1008 non-null   object \n",
            " 15  surname                             1008 non-null   object \n",
            " 16  zipcode                             1008 non-null   int64  \n",
            " 17  date_of_birth                       1008 non-null   object \n",
            " 18  state                               1002 non-null   object \n",
            " 19  class                               1008 non-null   int64  \n",
            "dtypes: float64(9), int64(4), object(7)\n",
            "memory usage: 165.4+ KB\n",
            "None\n"
          ]
        },
        {
          "output_type": "execute_result",
          "data": {
            "text/plain": [
              "   Agricultural Knowledge  Leadership  Adaptabilityr  Ethical Decision-Making  \\\n",
              "0                    2.63        2.63       2.632818                     1890   \n",
              "1                    0.68        0.68       0.684463                     2224   \n",
              "2                    1.19        1.19       1.185770                     1408   \n",
              "3                   -0.76       -0.76       0.756952                     2028   \n",
              "4                   -0.06       -0.06       0.056809                     1347   \n",
              "\n",
              "   Mechanical Aptitude  Genetic Diversity Empathy and Compassion  \\\n",
              "0                12768          -0.683974                label_2   \n",
              "1                12467          -1.097976                label_2   \n",
              "2                23358          -0.682788                label_2   \n",
              "3                11837           0.292791                label_2   \n",
              "4                18444          -1.427241                label_2   \n",
              "\n",
              "   Social Cohesion  Scientific and Technical Expertise  Mental Fortitude  \\\n",
              "0             0.13                            2.632818          0.191807   \n",
              "1             0.13                            0.684463          1.072780   \n",
              "2             0.13                            1.185770          0.502973   \n",
              "3             0.13                           -0.756952         -0.162026   \n",
              "4             0.13                           -0.056809          1.598888   \n",
              "\n",
              "   Physical Health  Resourcefulness      binary    ohe given_name surname  \\\n",
              "0         2.632818        -1.241767  'binary_1'  ohe_1      Laura  Larsen   \n",
              "1         0.684463        -1.196597  'binary_2'  ohe_4       Sean  Huerta   \n",
              "2         1.185770        -0.915115  'binary_2'  ohe_2     Ronnie  Morgan   \n",
              "3         0.756952        -0.448312  'binary_2'  ohe_1     Jeremy  Mathis   \n",
              "4         0.056809        -1.342506  'binary_1'  ohe_4      Erica    Wood   \n",
              "\n",
              "   zipcode date_of_birth             state  class  \n",
              "0    82997    1973-10-24  'South Carolina'      0  \n",
              "1    57337    2003-04-14    'Pennsylvania'      1  \n",
              "2    71168    1972-11-30        'Maryland'      1  \n",
              "3    36982    1955-01-24          'Kansas'      2  \n",
              "4    40584    1987-04-12   'Massachusetts'      1  "
            ],
            "text/html": [
              "\n",
              "  <div id=\"df-82768457-aaa3-4f16-99ba-8389bb0ac7f1\" class=\"colab-df-container\">\n",
              "    <div>\n",
              "<style scoped>\n",
              "    .dataframe tbody tr th:only-of-type {\n",
              "        vertical-align: middle;\n",
              "    }\n",
              "\n",
              "    .dataframe tbody tr th {\n",
              "        vertical-align: top;\n",
              "    }\n",
              "\n",
              "    .dataframe thead th {\n",
              "        text-align: right;\n",
              "    }\n",
              "</style>\n",
              "<table border=\"1\" class=\"dataframe\">\n",
              "  <thead>\n",
              "    <tr style=\"text-align: right;\">\n",
              "      <th></th>\n",
              "      <th>Agricultural Knowledge</th>\n",
              "      <th>Leadership</th>\n",
              "      <th>Adaptabilityr</th>\n",
              "      <th>Ethical Decision-Making</th>\n",
              "      <th>Mechanical Aptitude</th>\n",
              "      <th>Genetic Diversity</th>\n",
              "      <th>Empathy and Compassion</th>\n",
              "      <th>Social Cohesion</th>\n",
              "      <th>Scientific and Technical Expertise</th>\n",
              "      <th>Mental Fortitude</th>\n",
              "      <th>Physical Health</th>\n",
              "      <th>Resourcefulness</th>\n",
              "      <th>binary</th>\n",
              "      <th>ohe</th>\n",
              "      <th>given_name</th>\n",
              "      <th>surname</th>\n",
              "      <th>zipcode</th>\n",
              "      <th>date_of_birth</th>\n",
              "      <th>state</th>\n",
              "      <th>class</th>\n",
              "    </tr>\n",
              "  </thead>\n",
              "  <tbody>\n",
              "    <tr>\n",
              "      <th>0</th>\n",
              "      <td>2.63</td>\n",
              "      <td>2.63</td>\n",
              "      <td>2.632818</td>\n",
              "      <td>1890</td>\n",
              "      <td>12768</td>\n",
              "      <td>-0.683974</td>\n",
              "      <td>label_2</td>\n",
              "      <td>0.13</td>\n",
              "      <td>2.632818</td>\n",
              "      <td>0.191807</td>\n",
              "      <td>2.632818</td>\n",
              "      <td>-1.241767</td>\n",
              "      <td>'binary_1'</td>\n",
              "      <td>ohe_1</td>\n",
              "      <td>Laura</td>\n",
              "      <td>Larsen</td>\n",
              "      <td>82997</td>\n",
              "      <td>1973-10-24</td>\n",
              "      <td>'South Carolina'</td>\n",
              "      <td>0</td>\n",
              "    </tr>\n",
              "    <tr>\n",
              "      <th>1</th>\n",
              "      <td>0.68</td>\n",
              "      <td>0.68</td>\n",
              "      <td>0.684463</td>\n",
              "      <td>2224</td>\n",
              "      <td>12467</td>\n",
              "      <td>-1.097976</td>\n",
              "      <td>label_2</td>\n",
              "      <td>0.13</td>\n",
              "      <td>0.684463</td>\n",
              "      <td>1.072780</td>\n",
              "      <td>0.684463</td>\n",
              "      <td>-1.196597</td>\n",
              "      <td>'binary_2'</td>\n",
              "      <td>ohe_4</td>\n",
              "      <td>Sean</td>\n",
              "      <td>Huerta</td>\n",
              "      <td>57337</td>\n",
              "      <td>2003-04-14</td>\n",
              "      <td>'Pennsylvania'</td>\n",
              "      <td>1</td>\n",
              "    </tr>\n",
              "    <tr>\n",
              "      <th>2</th>\n",
              "      <td>1.19</td>\n",
              "      <td>1.19</td>\n",
              "      <td>1.185770</td>\n",
              "      <td>1408</td>\n",
              "      <td>23358</td>\n",
              "      <td>-0.682788</td>\n",
              "      <td>label_2</td>\n",
              "      <td>0.13</td>\n",
              "      <td>1.185770</td>\n",
              "      <td>0.502973</td>\n",
              "      <td>1.185770</td>\n",
              "      <td>-0.915115</td>\n",
              "      <td>'binary_2'</td>\n",
              "      <td>ohe_2</td>\n",
              "      <td>Ronnie</td>\n",
              "      <td>Morgan</td>\n",
              "      <td>71168</td>\n",
              "      <td>1972-11-30</td>\n",
              "      <td>'Maryland'</td>\n",
              "      <td>1</td>\n",
              "    </tr>\n",
              "    <tr>\n",
              "      <th>3</th>\n",
              "      <td>-0.76</td>\n",
              "      <td>-0.76</td>\n",
              "      <td>0.756952</td>\n",
              "      <td>2028</td>\n",
              "      <td>11837</td>\n",
              "      <td>0.292791</td>\n",
              "      <td>label_2</td>\n",
              "      <td>0.13</td>\n",
              "      <td>-0.756952</td>\n",
              "      <td>-0.162026</td>\n",
              "      <td>0.756952</td>\n",
              "      <td>-0.448312</td>\n",
              "      <td>'binary_2'</td>\n",
              "      <td>ohe_1</td>\n",
              "      <td>Jeremy</td>\n",
              "      <td>Mathis</td>\n",
              "      <td>36982</td>\n",
              "      <td>1955-01-24</td>\n",
              "      <td>'Kansas'</td>\n",
              "      <td>2</td>\n",
              "    </tr>\n",
              "    <tr>\n",
              "      <th>4</th>\n",
              "      <td>-0.06</td>\n",
              "      <td>-0.06</td>\n",
              "      <td>0.056809</td>\n",
              "      <td>1347</td>\n",
              "      <td>18444</td>\n",
              "      <td>-1.427241</td>\n",
              "      <td>label_2</td>\n",
              "      <td>0.13</td>\n",
              "      <td>-0.056809</td>\n",
              "      <td>1.598888</td>\n",
              "      <td>0.056809</td>\n",
              "      <td>-1.342506</td>\n",
              "      <td>'binary_1'</td>\n",
              "      <td>ohe_4</td>\n",
              "      <td>Erica</td>\n",
              "      <td>Wood</td>\n",
              "      <td>40584</td>\n",
              "      <td>1987-04-12</td>\n",
              "      <td>'Massachusetts'</td>\n",
              "      <td>1</td>\n",
              "    </tr>\n",
              "  </tbody>\n",
              "</table>\n",
              "</div>\n",
              "    <div class=\"colab-df-buttons\">\n",
              "\n",
              "  <div class=\"colab-df-container\">\n",
              "    <button class=\"colab-df-convert\" onclick=\"convertToInteractive('df-82768457-aaa3-4f16-99ba-8389bb0ac7f1')\"\n",
              "            title=\"Convert this dataframe to an interactive table.\"\n",
              "            style=\"display:none;\">\n",
              "\n",
              "  <svg xmlns=\"http://www.w3.org/2000/svg\" height=\"24px\" viewBox=\"0 -960 960 960\">\n",
              "    <path d=\"M120-120v-720h720v720H120Zm60-500h600v-160H180v160Zm220 220h160v-160H400v160Zm0 220h160v-160H400v160ZM180-400h160v-160H180v160Zm440 0h160v-160H620v160ZM180-180h160v-160H180v160Zm440 0h160v-160H620v160Z\"/>\n",
              "  </svg>\n",
              "    </button>\n",
              "\n",
              "  <style>\n",
              "    .colab-df-container {\n",
              "      display:flex;\n",
              "      gap: 12px;\n",
              "    }\n",
              "\n",
              "    .colab-df-convert {\n",
              "      background-color: #E8F0FE;\n",
              "      border: none;\n",
              "      border-radius: 50%;\n",
              "      cursor: pointer;\n",
              "      display: none;\n",
              "      fill: #1967D2;\n",
              "      height: 32px;\n",
              "      padding: 0 0 0 0;\n",
              "      width: 32px;\n",
              "    }\n",
              "\n",
              "    .colab-df-convert:hover {\n",
              "      background-color: #E2EBFA;\n",
              "      box-shadow: 0px 1px 2px rgba(60, 64, 67, 0.3), 0px 1px 3px 1px rgba(60, 64, 67, 0.15);\n",
              "      fill: #174EA6;\n",
              "    }\n",
              "\n",
              "    .colab-df-buttons div {\n",
              "      margin-bottom: 4px;\n",
              "    }\n",
              "\n",
              "    [theme=dark] .colab-df-convert {\n",
              "      background-color: #3B4455;\n",
              "      fill: #D2E3FC;\n",
              "    }\n",
              "\n",
              "    [theme=dark] .colab-df-convert:hover {\n",
              "      background-color: #434B5C;\n",
              "      box-shadow: 0px 1px 3px 1px rgba(0, 0, 0, 0.15);\n",
              "      filter: drop-shadow(0px 1px 2px rgba(0, 0, 0, 0.3));\n",
              "      fill: #FFFFFF;\n",
              "    }\n",
              "  </style>\n",
              "\n",
              "    <script>\n",
              "      const buttonEl =\n",
              "        document.querySelector('#df-82768457-aaa3-4f16-99ba-8389bb0ac7f1 button.colab-df-convert');\n",
              "      buttonEl.style.display =\n",
              "        google.colab.kernel.accessAllowed ? 'block' : 'none';\n",
              "\n",
              "      async function convertToInteractive(key) {\n",
              "        const element = document.querySelector('#df-82768457-aaa3-4f16-99ba-8389bb0ac7f1');\n",
              "        const dataTable =\n",
              "          await google.colab.kernel.invokeFunction('convertToInteractive',\n",
              "                                                    [key], {});\n",
              "        if (!dataTable) return;\n",
              "\n",
              "        const docLinkHtml = 'Like what you see? Visit the ' +\n",
              "          '<a target=\"_blank\" href=https://colab.research.google.com/notebooks/data_table.ipynb>data table notebook</a>'\n",
              "          + ' to learn more about interactive tables.';\n",
              "        element.innerHTML = '';\n",
              "        dataTable['output_type'] = 'display_data';\n",
              "        await google.colab.output.renderOutput(dataTable, element);\n",
              "        const docLink = document.createElement('div');\n",
              "        docLink.innerHTML = docLinkHtml;\n",
              "        element.appendChild(docLink);\n",
              "      }\n",
              "    </script>\n",
              "  </div>\n",
              "\n",
              "\n",
              "<div id=\"df-72d5a608-7358-45ea-8264-8a6c4270b199\">\n",
              "  <button class=\"colab-df-quickchart\" onclick=\"quickchart('df-72d5a608-7358-45ea-8264-8a6c4270b199')\"\n",
              "            title=\"Suggest charts\"\n",
              "            style=\"display:none;\">\n",
              "\n",
              "<svg xmlns=\"http://www.w3.org/2000/svg\" height=\"24px\"viewBox=\"0 0 24 24\"\n",
              "     width=\"24px\">\n",
              "    <g>\n",
              "        <path d=\"M19 3H5c-1.1 0-2 .9-2 2v14c0 1.1.9 2 2 2h14c1.1 0 2-.9 2-2V5c0-1.1-.9-2-2-2zM9 17H7v-7h2v7zm4 0h-2V7h2v10zm4 0h-2v-4h2v4z\"/>\n",
              "    </g>\n",
              "</svg>\n",
              "  </button>\n",
              "\n",
              "<style>\n",
              "  .colab-df-quickchart {\n",
              "      --bg-color: #E8F0FE;\n",
              "      --fill-color: #1967D2;\n",
              "      --hover-bg-color: #E2EBFA;\n",
              "      --hover-fill-color: #174EA6;\n",
              "      --disabled-fill-color: #AAA;\n",
              "      --disabled-bg-color: #DDD;\n",
              "  }\n",
              "\n",
              "  [theme=dark] .colab-df-quickchart {\n",
              "      --bg-color: #3B4455;\n",
              "      --fill-color: #D2E3FC;\n",
              "      --hover-bg-color: #434B5C;\n",
              "      --hover-fill-color: #FFFFFF;\n",
              "      --disabled-bg-color: #3B4455;\n",
              "      --disabled-fill-color: #666;\n",
              "  }\n",
              "\n",
              "  .colab-df-quickchart {\n",
              "    background-color: var(--bg-color);\n",
              "    border: none;\n",
              "    border-radius: 50%;\n",
              "    cursor: pointer;\n",
              "    display: none;\n",
              "    fill: var(--fill-color);\n",
              "    height: 32px;\n",
              "    padding: 0;\n",
              "    width: 32px;\n",
              "  }\n",
              "\n",
              "  .colab-df-quickchart:hover {\n",
              "    background-color: var(--hover-bg-color);\n",
              "    box-shadow: 0 1px 2px rgba(60, 64, 67, 0.3), 0 1px 3px 1px rgba(60, 64, 67, 0.15);\n",
              "    fill: var(--button-hover-fill-color);\n",
              "  }\n",
              "\n",
              "  .colab-df-quickchart-complete:disabled,\n",
              "  .colab-df-quickchart-complete:disabled:hover {\n",
              "    background-color: var(--disabled-bg-color);\n",
              "    fill: var(--disabled-fill-color);\n",
              "    box-shadow: none;\n",
              "  }\n",
              "\n",
              "  .colab-df-spinner {\n",
              "    border: 2px solid var(--fill-color);\n",
              "    border-color: transparent;\n",
              "    border-bottom-color: var(--fill-color);\n",
              "    animation:\n",
              "      spin 1s steps(1) infinite;\n",
              "  }\n",
              "\n",
              "  @keyframes spin {\n",
              "    0% {\n",
              "      border-color: transparent;\n",
              "      border-bottom-color: var(--fill-color);\n",
              "      border-left-color: var(--fill-color);\n",
              "    }\n",
              "    20% {\n",
              "      border-color: transparent;\n",
              "      border-left-color: var(--fill-color);\n",
              "      border-top-color: var(--fill-color);\n",
              "    }\n",
              "    30% {\n",
              "      border-color: transparent;\n",
              "      border-left-color: var(--fill-color);\n",
              "      border-top-color: var(--fill-color);\n",
              "      border-right-color: var(--fill-color);\n",
              "    }\n",
              "    40% {\n",
              "      border-color: transparent;\n",
              "      border-right-color: var(--fill-color);\n",
              "      border-top-color: var(--fill-color);\n",
              "    }\n",
              "    60% {\n",
              "      border-color: transparent;\n",
              "      border-right-color: var(--fill-color);\n",
              "    }\n",
              "    80% {\n",
              "      border-color: transparent;\n",
              "      border-right-color: var(--fill-color);\n",
              "      border-bottom-color: var(--fill-color);\n",
              "    }\n",
              "    90% {\n",
              "      border-color: transparent;\n",
              "      border-bottom-color: var(--fill-color);\n",
              "    }\n",
              "  }\n",
              "</style>\n",
              "\n",
              "  <script>\n",
              "    async function quickchart(key) {\n",
              "      const quickchartButtonEl =\n",
              "        document.querySelector('#' + key + ' button');\n",
              "      quickchartButtonEl.disabled = true;  // To prevent multiple clicks.\n",
              "      quickchartButtonEl.classList.add('colab-df-spinner');\n",
              "      try {\n",
              "        const charts = await google.colab.kernel.invokeFunction(\n",
              "            'suggestCharts', [key], {});\n",
              "      } catch (error) {\n",
              "        console.error('Error during call to suggestCharts:', error);\n",
              "      }\n",
              "      quickchartButtonEl.classList.remove('colab-df-spinner');\n",
              "      quickchartButtonEl.classList.add('colab-df-quickchart-complete');\n",
              "    }\n",
              "    (() => {\n",
              "      let quickchartButtonEl =\n",
              "        document.querySelector('#df-72d5a608-7358-45ea-8264-8a6c4270b199 button');\n",
              "      quickchartButtonEl.style.display =\n",
              "        google.colab.kernel.accessAllowed ? 'block' : 'none';\n",
              "    })();\n",
              "  </script>\n",
              "</div>\n",
              "\n",
              "    </div>\n",
              "  </div>\n"
            ],
            "application/vnd.google.colaboratory.intrinsic+json": {
              "type": "dataframe",
              "variable_name": "df",
              "summary": "{\n  \"name\": \"df\",\n  \"rows\": 1008,\n  \"fields\": [\n    {\n      \"column\": \"Agricultural Knowledge\",\n      \"properties\": {\n        \"dtype\": \"number\",\n        \"std\": 1.2992874495926117,\n        \"min\": -2.47,\n        \"max\": 4.05,\n        \"num_unique_values\": 434,\n        \"samples\": [\n          -0.92,\n          -1.67,\n          1.46\n        ],\n        \"semantic_type\": \"\",\n        \"description\": \"\"\n      }\n    },\n    {\n      \"column\": \"Leadership\",\n      \"properties\": {\n        \"dtype\": \"number\",\n        \"std\": 1.2992874495926117,\n        \"min\": -2.47,\n        \"max\": 4.05,\n        \"num_unique_values\": 434,\n        \"samples\": [\n          -0.92,\n          -1.67,\n          1.46\n        ],\n        \"semantic_type\": \"\",\n        \"description\": \"\"\n      }\n    },\n    {\n      \"column\": \"Adaptabilityr\",\n      \"properties\": {\n        \"dtype\": \"number\",\n        \"std\": 0.7411234983178094,\n        \"min\": -0.0194004384805241,\n        \"max\": 4.048934452872356,\n        \"num_unique_values\": 995,\n        \"samples\": [\n          1.3435676722688994,\n          0.6192919835885604,\n          1.544706608276916\n        ],\n        \"semantic_type\": \"\",\n        \"description\": \"\"\n      }\n    },\n    {\n      \"column\": \"Ethical Decision-Making\",\n      \"properties\": {\n        \"dtype\": \"number\",\n        \"std\": 573,\n        \"min\": 1001,\n        \"max\": 2999,\n        \"num_unique_values\": 1000,\n        \"samples\": [\n          1396,\n          2271,\n          1304\n        ],\n        \"semantic_type\": \"\",\n        \"description\": \"\"\n      }\n    },\n    {\n      \"column\": \"Mechanical Aptitude\",\n      \"properties\": {\n        \"dtype\": \"number\",\n        \"std\": 5730,\n        \"min\": 10013,\n        \"max\": 29986,\n        \"num_unique_values\": 1000,\n        \"samples\": [\n          10786,\n          29979,\n          17575\n        ],\n        \"semantic_type\": \"\",\n        \"description\": \"\"\n      }\n    },\n    {\n      \"column\": \"Genetic Diversity\",\n      \"properties\": {\n        \"dtype\": \"number\",\n        \"std\": 1.2005931216008703,\n        \"min\": -2.489676343505811,\n        \"max\": 4.023495241972435,\n        \"num_unique_values\": 994,\n        \"samples\": [\n          0.6413815669801176,\n          1.7568644962361384,\n          -0.6122645697509657\n        ],\n        \"semantic_type\": \"\",\n        \"description\": \"\"\n      }\n    },\n    {\n      \"column\": \"Empathy and Compassion\",\n      \"properties\": {\n        \"dtype\": \"category\",\n        \"num_unique_values\": 2,\n        \"samples\": [\n          \"label_1\",\n          \"label_2\"\n        ],\n        \"semantic_type\": \"\",\n        \"description\": \"\"\n      }\n    },\n    {\n      \"column\": \"Social Cohesion\",\n      \"properties\": {\n        \"dtype\": \"number\",\n        \"std\": 2.7769353514524445e-17,\n        \"min\": 0.13,\n        \"max\": 0.13,\n        \"num_unique_values\": 1,\n        \"samples\": [\n          0.13\n        ],\n        \"semantic_type\": \"\",\n        \"description\": \"\"\n      }\n    },\n    {\n      \"column\": \"Scientific and Technical Expertise\",\n      \"properties\": {\n        \"dtype\": \"number\",\n        \"std\": 1.2989668805658678,\n        \"min\": -2.472717702217064,\n        \"max\": 4.048934452872356,\n        \"num_unique_values\": 997,\n        \"samples\": [\n          0.8833865853198014\n        ],\n        \"semantic_type\": \"\",\n        \"description\": \"\"\n      }\n    },\n    {\n      \"column\": \"Mental Fortitude\",\n      \"properties\": {\n        \"dtype\": \"number\",\n        \"std\": 1.2146850594706093,\n        \"min\": -4.123140161469619,\n        \"max\": 3.241352676924909,\n        \"num_unique_values\": 993,\n        \"samples\": [\n          -0.7440427759898309\n        ],\n        \"semantic_type\": \"\",\n        \"description\": \"\"\n      }\n    },\n    {\n      \"column\": \"Physical Health\",\n      \"properties\": {\n        \"dtype\": \"number\",\n        \"std\": 0.7429769660360878,\n        \"min\": -0.0057949221395239,\n        \"max\": 4.048934452872356,\n        \"num_unique_values\": 996,\n        \"samples\": [\n          0.7321185142704367\n        ],\n        \"semantic_type\": \"\",\n        \"description\": \"\"\n      }\n    },\n    {\n      \"column\": \"Resourcefulness\",\n      \"properties\": {\n        \"dtype\": \"number\",\n        \"std\": 0.6548968549922283,\n        \"min\": -4.184897584288599,\n        \"max\": 0.0088934121415137,\n        \"num_unique_values\": 1000,\n        \"samples\": [\n          -1.048309692957843\n        ],\n        \"semantic_type\": \"\",\n        \"description\": \"\"\n      }\n    },\n    {\n      \"column\": \"binary\",\n      \"properties\": {\n        \"dtype\": \"category\",\n        \"num_unique_values\": 2,\n        \"samples\": [\n          \"'binary_2'\"\n        ],\n        \"semantic_type\": \"\",\n        \"description\": \"\"\n      }\n    },\n    {\n      \"column\": \"ohe\",\n      \"properties\": {\n        \"dtype\": \"category\",\n        \"num_unique_values\": 4,\n        \"samples\": [\n          \"ohe_4\"\n        ],\n        \"semantic_type\": \"\",\n        \"description\": \"\"\n      }\n    },\n    {\n      \"column\": \"given_name\",\n      \"properties\": {\n        \"dtype\": \"category\",\n        \"num_unique_values\": 358,\n        \"samples\": [\n          \"Grace\"\n        ],\n        \"semantic_type\": \"\",\n        \"description\": \"\"\n      }\n    },\n    {\n      \"column\": \"surname\",\n      \"properties\": {\n        \"dtype\": \"string\",\n        \"num_unique_values\": 517,\n        \"samples\": [\n          \"Richmond\"\n        ],\n        \"semantic_type\": \"\",\n        \"description\": \"\"\n      }\n    },\n    {\n      \"column\": \"zipcode\",\n      \"properties\": {\n        \"dtype\": \"number\",\n        \"std\": 28405,\n        \"min\": 536,\n        \"max\": 99853,\n        \"num_unique_values\": 997,\n        \"samples\": [\n          64396\n        ],\n        \"semantic_type\": \"\",\n        \"description\": \"\"\n      }\n    },\n    {\n      \"column\": \"date_of_birth\",\n      \"properties\": {\n        \"dtype\": \"object\",\n        \"num_unique_values\": 987,\n        \"samples\": [\n          \"1928-10-16\"\n        ],\n        \"semantic_type\": \"\",\n        \"description\": \"\"\n      }\n    },\n    {\n      \"column\": \"state\",\n      \"properties\": {\n        \"dtype\": \"category\",\n        \"num_unique_values\": 50,\n        \"samples\": [\n          \"'Wisconsin'\"\n        ],\n        \"semantic_type\": \"\",\n        \"description\": \"\"\n      }\n    },\n    {\n      \"column\": \"class\",\n      \"properties\": {\n        \"dtype\": \"number\",\n        \"std\": 0,\n        \"min\": 0,\n        \"max\": 2,\n        \"num_unique_values\": 3,\n        \"samples\": [\n          0\n        ],\n        \"semantic_type\": \"\",\n        \"description\": \"\"\n      }\n    }\n  ]\n}"
            }
          },
          "metadata": {},
          "execution_count": 6
        }
      ]
    },
    {
      "cell_type": "markdown",
      "source": [
        "### Create Story\n",
        "\n",
        "* Create an overview of a short story similar to the stories provided in assignment 12\n",
        "* Base the story on the the variables created in the Create Dataset section\n",
        "* The story must have a binary outcome such as survived or not, won or lost, will get or won't get, etc.\n",
        "* This binary outcome's data will be the variable named class' data in your datasat, labeled 0 or 1\n",
        "* Rename the variables appropriately to fit the story\n",
        "* Put the overview of your story in the following cell - My Story"
      ],
      "metadata": {
        "id": "8aEXVggRuObb"
      }
    },
    {
      "cell_type": "markdown",
      "source": [
        "### My Story"
      ],
      "metadata": {
        "id": "j4OCNORBweIm"
      }
    },
    {
      "cell_type": "markdown",
      "source": [
        "## The Data\n",
        "\n",
        "* Use the project we've been working on in Replit to clean and prepare your data\n",
        "* You can also use https://github.com/gitmystuff/preppy.git\n",
        "* See PrepPy Functions for an example of the dataset preparation steps\n",
        "\n",
        "#### PrepPy Functions\n",
        "\n",
        "* identify_consts\n",
        "* identify_quasi_consts\n",
        "* check_row_duplicates\n",
        "* check_col_duplicates\n",
        "* do_OHE\n",
        "* handle_missing_values\n",
        "* handle_standard_scaler\n",
        "* handle_minmax_scaler"
      ],
      "metadata": {
        "id": "Z00BTBQ4uGIj"
      }
    },
    {
      "cell_type": "markdown",
      "source": [
        "### Prep Data"
      ],
      "metadata": {
        "id": "uY3G3Z15y7T3"
      }
    },
    {
      "cell_type": "code",
      "source": [
        "! git clone https://github.com/gitmystuff/preppy.git"
      ],
      "metadata": {
        "colab": {
          "base_uri": "https://localhost:8080/"
        },
        "id": "HZ4LtUZtpIpA",
        "outputId": "a855a714-47eb-48ee-a1e3-ee2e38b2e2da"
      },
      "execution_count": null,
      "outputs": [
        {
          "output_type": "stream",
          "name": "stdout",
          "text": [
            "Cloning into 'preppy'...\n",
            "remote: Enumerating objects: 38, done.\u001b[K\n",
            "remote: Counting objects: 100% (38/38), done.\u001b[K\n",
            "remote: Compressing objects: 100% (30/30), done.\u001b[K\n",
            "remote: Total 38 (delta 14), reused 15 (delta 5), pack-reused 0\u001b[K\n",
            "Receiving objects: 100% (38/38), 19.21 KiB | 3.84 MiB/s, done.\n",
            "Resolving deltas: 100% (14/14), done.\n"
          ]
        }
      ]
    },
    {
      "cell_type": "code",
      "source": [
        "from preppy.version import __version__\n",
        "import preppy.utils as utils\n",
        "\n",
        "\n",
        "print(__version__)"
      ],
      "metadata": {
        "colab": {
          "base_uri": "https://localhost:8080/"
        },
        "id": "ESvECPgFp1GG",
        "outputId": "65c94622-458c-4b2b-fa1c-1ee336ff345f"
      },
      "execution_count": null,
      "outputs": [
        {
          "output_type": "stream",
          "name": "stdout",
          "text": [
            "PrepPy Version: 0.1.0\n"
          ]
        }
      ]
    },
    {
      "cell_type": "code",
      "source": [
        "consts = utils.functions.identify_consts(df)\n",
        "consts"
      ],
      "metadata": {
        "colab": {
          "base_uri": "https://localhost:8080/"
        },
        "id": "GcK-Y7wEqiy1",
        "outputId": "df7de512-dc14-4006-a394-90c1510b7e5f"
      },
      "execution_count": null,
      "outputs": [
        {
          "output_type": "execute_result",
          "data": {
            "text/plain": [
              "['Social Cohesion']"
            ]
          },
          "metadata": {},
          "execution_count": 9
        }
      ]
    },
    {
      "cell_type": "code",
      "source": [
        "df.drop(consts, axis=1, inplace=True)"
      ],
      "metadata": {
        "id": "KsOcn-pFrHuZ"
      },
      "execution_count": null,
      "outputs": []
    },
    {
      "cell_type": "code",
      "source": [
        "quasi_consts = utils.functions.identify_quasi_consts(df)\n",
        "print(quasi_consts)"
      ],
      "metadata": {
        "colab": {
          "base_uri": "https://localhost:8080/"
        },
        "id": "DnlynHY9rWFq",
        "outputId": "cfff173c-87f9-4bba-f6e2-b503d8efa66a"
      },
      "execution_count": null,
      "outputs": [
        {
          "output_type": "stream",
          "name": "stdout",
          "text": [
            "['Empathy and Compassion']\n"
          ]
        }
      ]
    },
    {
      "cell_type": "code",
      "source": [
        "df.drop(quasi_consts, axis=1, inplace=True)\n",
        "df.shape"
      ],
      "metadata": {
        "colab": {
          "base_uri": "https://localhost:8080/"
        },
        "id": "DqACuxyNsHCP",
        "outputId": "ff6295dd-e231-4788-ee5a-8f198bcb66ba"
      },
      "execution_count": null,
      "outputs": [
        {
          "output_type": "execute_result",
          "data": {
            "text/plain": [
              "(1008, 18)"
            ]
          },
          "metadata": {},
          "execution_count": 12
        }
      ]
    },
    {
      "cell_type": "code",
      "source": [
        "utils.functions.check_row_duplicates(df)"
      ],
      "metadata": {
        "colab": {
          "base_uri": "https://localhost:8080/"
        },
        "id": "-GbZp4kNsJhn",
        "outputId": "d38d6215-8a69-43ca-ddd5-d6b78d315f22"
      },
      "execution_count": null,
      "outputs": [
        {
          "output_type": "execute_result",
          "data": {
            "text/plain": [
              "16"
            ]
          },
          "metadata": {},
          "execution_count": 13
        }
      ]
    },
    {
      "cell_type": "code",
      "source": [
        "df.drop_duplicates(inplace=True)\n",
        "df.shape"
      ],
      "metadata": {
        "colab": {
          "base_uri": "https://localhost:8080/"
        },
        "id": "GOpbSRY8sVCF",
        "outputId": "0e226f83-11b8-4a7c-be7a-ed91e524c81a"
      },
      "execution_count": null,
      "outputs": [
        {
          "output_type": "execute_result",
          "data": {
            "text/plain": [
              "(1000, 18)"
            ]
          },
          "metadata": {},
          "execution_count": 14
        }
      ]
    },
    {
      "cell_type": "markdown",
      "source": [
        "OHE"
      ],
      "metadata": {
        "id": "g6PWgjnytWK2"
      }
    },
    {
      "cell_type": "code",
      "source": [
        "df.info()"
      ],
      "metadata": {
        "colab": {
          "base_uri": "https://localhost:8080/"
        },
        "id": "2aiG_pn7teYn",
        "outputId": "7ca34fba-e5f8-4a7c-c98d-8f5924ecf712"
      },
      "execution_count": null,
      "outputs": [
        {
          "output_type": "stream",
          "name": "stdout",
          "text": [
            "<class 'pandas.core.frame.DataFrame'>\n",
            "Index: 1000 entries, 0 to 1007\n",
            "Data columns (total 18 columns):\n",
            " #   Column                              Non-Null Count  Dtype  \n",
            "---  ------                              --------------  -----  \n",
            " 0   Agricultural Knowledge              1000 non-null   float64\n",
            " 1   Leadership                          1000 non-null   float64\n",
            " 2   Adaptabilityr                       995 non-null    float64\n",
            " 3   Ethical Decision-Making             1000 non-null   int64  \n",
            " 4   Mechanical Aptitude                 1000 non-null   int64  \n",
            " 5   Genetic Diversity                   994 non-null    float64\n",
            " 6   Scientific and Technical Expertise  997 non-null    float64\n",
            " 7   Mental Fortitude                    993 non-null    float64\n",
            " 8   Physical Health                     996 non-null    float64\n",
            " 9   Resourcefulness                     1000 non-null   float64\n",
            " 10  binary                              994 non-null    object \n",
            " 11  ohe                                 1000 non-null   object \n",
            " 12  given_name                          1000 non-null   object \n",
            " 13  surname                             1000 non-null   object \n",
            " 14  zipcode                             1000 non-null   int64  \n",
            " 15  date_of_birth                       1000 non-null   object \n",
            " 16  state                               994 non-null    object \n",
            " 17  class                               1000 non-null   int64  \n",
            "dtypes: float64(8), int64(4), object(6)\n",
            "memory usage: 148.4+ KB\n"
          ]
        }
      ]
    },
    {
      "cell_type": "code",
      "source": [
        "df = utils.functions.do_OHE(df)\n",
        "df.info()"
      ],
      "metadata": {
        "colab": {
          "base_uri": "https://localhost:8080/"
        },
        "id": "5rQpy7VkteG2",
        "outputId": "e00a40b6-7878-49fa-d7c3-d2ba6d376419"
      },
      "execution_count": null,
      "outputs": [
        {
          "output_type": "stream",
          "name": "stdout",
          "text": [
            "<class 'pandas.core.frame.DataFrame'>\n",
            "Index: 1000 entries, 0 to 1007\n",
            "Data columns (total 20 columns):\n",
            " #   Column                              Non-Null Count  Dtype  \n",
            "---  ------                              --------------  -----  \n",
            " 0   Agricultural Knowledge              1000 non-null   float64\n",
            " 1   Leadership                          1000 non-null   float64\n",
            " 2   Adaptabilityr                       995 non-null    float64\n",
            " 3   Ethical Decision-Making             1000 non-null   int64  \n",
            " 4   Mechanical Aptitude                 1000 non-null   int64  \n",
            " 5   Genetic Diversity                   994 non-null    float64\n",
            " 6   Scientific and Technical Expertise  997 non-null    float64\n",
            " 7   Mental Fortitude                    993 non-null    float64\n",
            " 8   Physical Health                     996 non-null    float64\n",
            " 9   Resourcefulness                     1000 non-null   float64\n",
            " 10  binary                              994 non-null    float64\n",
            " 11  given_name                          1000 non-null   float64\n",
            " 12  surname                             1000 non-null   float64\n",
            " 13  zipcode                             1000 non-null   int64  \n",
            " 14  date_of_birth                       1000 non-null   float64\n",
            " 15  state                               994 non-null    float64\n",
            " 16  class                               1000 non-null   int64  \n",
            " 17  ohe_ohe_2                           992 non-null    float64\n",
            " 18  ohe_ohe_3                           992 non-null    float64\n",
            " 19  ohe_ohe_4                           992 non-null    float64\n",
            "dtypes: float64(16), int64(4)\n",
            "memory usage: 196.4 KB\n"
          ]
        }
      ]
    },
    {
      "cell_type": "markdown",
      "source": [
        "### Missing Values"
      ],
      "metadata": {
        "id": "FVhBJxdIy9eX"
      }
    },
    {
      "cell_type": "code",
      "source": [
        "df.isnull().sum()"
      ],
      "metadata": {
        "colab": {
          "base_uri": "https://localhost:8080/"
        },
        "id": "euB5nxUitJy7",
        "outputId": "99820f5d-2e2e-40ac-a345-519555a6081d"
      },
      "execution_count": null,
      "outputs": [
        {
          "output_type": "execute_result",
          "data": {
            "text/plain": [
              "Agricultural Knowledge                0\n",
              "Leadership                            0\n",
              "Adaptabilityr                         5\n",
              "Ethical Decision-Making               0\n",
              "Mechanical Aptitude                   0\n",
              "Genetic Diversity                     6\n",
              "Scientific and Technical Expertise    3\n",
              "Mental Fortitude                      7\n",
              "Physical Health                       4\n",
              "Resourcefulness                       0\n",
              "binary                                6\n",
              "given_name                            0\n",
              "surname                               0\n",
              "zipcode                               0\n",
              "date_of_birth                         0\n",
              "state                                 6\n",
              "class                                 0\n",
              "ohe_ohe_2                             8\n",
              "ohe_ohe_3                             8\n",
              "ohe_ohe_4                             8\n",
              "dtype: int64"
            ]
          },
          "metadata": {},
          "execution_count": 17
        }
      ]
    },
    {
      "cell_type": "code",
      "source": [
        "df = utils.functions.handle_missing_values(df)\n",
        "df.isnull().sum()"
      ],
      "metadata": {
        "colab": {
          "base_uri": "https://localhost:8080/"
        },
        "id": "93oi00TAtjxr",
        "outputId": "5ec1a635-8179-48a8-d8a5-ad062006bdc4"
      },
      "execution_count": null,
      "outputs": [
        {
          "output_type": "execute_result",
          "data": {
            "text/plain": [
              "Agricultural Knowledge                0\n",
              "Leadership                            0\n",
              "Adaptabilityr                         0\n",
              "Ethical Decision-Making               0\n",
              "Mechanical Aptitude                   0\n",
              "Genetic Diversity                     0\n",
              "Scientific and Technical Expertise    0\n",
              "Mental Fortitude                      0\n",
              "Physical Health                       0\n",
              "Resourcefulness                       0\n",
              "binary                                0\n",
              "given_name                            0\n",
              "surname                               0\n",
              "zipcode                               0\n",
              "date_of_birth                         0\n",
              "state                                 0\n",
              "class                                 0\n",
              "ohe_ohe_2                             0\n",
              "ohe_ohe_3                             0\n",
              "ohe_ohe_4                             0\n",
              "dtype: int64"
            ]
          },
          "metadata": {},
          "execution_count": 18
        }
      ]
    },
    {
      "cell_type": "markdown",
      "source": [
        "### Descriptive Statistics"
      ],
      "metadata": {
        "id": "DDJk4Ljyy_jx"
      }
    },
    {
      "cell_type": "code",
      "source": [
        "df.describe()"
      ],
      "metadata": {
        "colab": {
          "base_uri": "https://localhost:8080/",
          "height": 372
        },
        "id": "nxDpRJGzuItP",
        "outputId": "e5abfe9b-48be-4e00-ff4c-400157bdc28b"
      },
      "execution_count": null,
      "outputs": [
        {
          "output_type": "execute_result",
          "data": {
            "text/plain": [
              "       Agricultural Knowledge   Leadership  Adaptabilityr  \\\n",
              "count             1000.000000  1000.000000    1000.000000   \n",
              "mean                 0.370060     0.370060       1.129678   \n",
              "std                  1.302333     1.302333       0.740893   \n",
              "min                 -2.470000    -2.470000      -0.019400   \n",
              "25%                 -0.790000    -0.790000       0.596002   \n",
              "50%                  0.320000     0.320000       0.996658   \n",
              "75%                  1.390000     1.390000       1.545441   \n",
              "max                  4.050000     4.050000       4.048934   \n",
              "\n",
              "       Ethical Decision-Making  Mechanical Aptitude  Genetic Diversity  \\\n",
              "count              1000.000000          1000.000000        1000.000000   \n",
              "mean               1999.674000         19984.195000           0.239764   \n",
              "std                 573.885909          5724.618257           1.198307   \n",
              "min                1001.000000         10013.000000          -2.489676   \n",
              "25%                1508.750000         15023.750000          -0.804255   \n",
              "50%                1983.500000         20011.000000           0.254294   \n",
              "75%                2498.250000         24793.250000           1.192069   \n",
              "max                2999.000000         29986.000000           4.023495   \n",
              "\n",
              "       Scientific and Technical Expertise  Mental Fortitude  Physical Health  \\\n",
              "count                         1000.000000       1000.000000      1000.000000   \n",
              "mean                             0.374424         -0.348462         1.131027   \n",
              "std                              1.299775          1.210806         0.743108   \n",
              "min                             -2.472718         -4.123140        -0.005795   \n",
              "25%                             -0.785538         -1.276572         0.593977   \n",
              "50%                              0.334156         -0.476074         0.997598   \n",
              "75%                              1.390740          0.533964         1.548126   \n",
              "max                              4.048934          3.241353         4.048934   \n",
              "\n",
              "       Resourcefulness       binary   given_name      surname       zipcode  \\\n",
              "count      1000.000000  1000.000000  1000.000000  1000.000000   1000.000000   \n",
              "mean         -1.146386     0.473820     0.006392     0.003920  49201.336000   \n",
              "std           0.655409     0.498064     0.006016     0.004151  28458.202462   \n",
              "min          -4.184898     0.000000     0.001000     0.001000    536.000000   \n",
              "25%          -1.540317     0.000000     0.002000     0.001000  25603.500000   \n",
              "50%          -1.123967     0.000000     0.004000     0.002000  47308.500000   \n",
              "75%          -0.669995     1.000000     0.009000     0.004000  73960.500000   \n",
              "max           0.008893     1.000000     0.027000     0.020000  99853.000000   \n",
              "\n",
              "       date_of_birth        state        class    ohe_ohe_2    ohe_ohe_3  \\\n",
              "count    1000.000000  1000.000000  1000.000000  1000.000000  1000.000000   \n",
              "mean        0.001026     0.020676     1.005000     0.253000     0.259000   \n",
              "std         0.000159     0.003790     0.818318     0.434948     0.438305   \n",
              "min         0.001000     0.012000     0.000000     0.000000     0.000000   \n",
              "25%         0.001000     0.019000     0.000000     0.000000     0.000000   \n",
              "50%         0.001000     0.021000     1.000000     0.000000     0.000000   \n",
              "75%         0.001000     0.024000     2.000000     1.000000     1.000000   \n",
              "max         0.002000     0.027000     2.000000     1.000000     1.000000   \n",
              "\n",
              "         ohe_ohe_4  \n",
              "count  1000.000000  \n",
              "mean      0.236000  \n",
              "std       0.424835  \n",
              "min       0.000000  \n",
              "25%       0.000000  \n",
              "50%       0.000000  \n",
              "75%       0.000000  \n",
              "max       1.000000  "
            ],
            "text/html": [
              "\n",
              "  <div id=\"df-347142d5-b484-475a-b963-0e9f67b7afff\" class=\"colab-df-container\">\n",
              "    <div>\n",
              "<style scoped>\n",
              "    .dataframe tbody tr th:only-of-type {\n",
              "        vertical-align: middle;\n",
              "    }\n",
              "\n",
              "    .dataframe tbody tr th {\n",
              "        vertical-align: top;\n",
              "    }\n",
              "\n",
              "    .dataframe thead th {\n",
              "        text-align: right;\n",
              "    }\n",
              "</style>\n",
              "<table border=\"1\" class=\"dataframe\">\n",
              "  <thead>\n",
              "    <tr style=\"text-align: right;\">\n",
              "      <th></th>\n",
              "      <th>Agricultural Knowledge</th>\n",
              "      <th>Leadership</th>\n",
              "      <th>Adaptabilityr</th>\n",
              "      <th>Ethical Decision-Making</th>\n",
              "      <th>Mechanical Aptitude</th>\n",
              "      <th>Genetic Diversity</th>\n",
              "      <th>Scientific and Technical Expertise</th>\n",
              "      <th>Mental Fortitude</th>\n",
              "      <th>Physical Health</th>\n",
              "      <th>Resourcefulness</th>\n",
              "      <th>binary</th>\n",
              "      <th>given_name</th>\n",
              "      <th>surname</th>\n",
              "      <th>zipcode</th>\n",
              "      <th>date_of_birth</th>\n",
              "      <th>state</th>\n",
              "      <th>class</th>\n",
              "      <th>ohe_ohe_2</th>\n",
              "      <th>ohe_ohe_3</th>\n",
              "      <th>ohe_ohe_4</th>\n",
              "    </tr>\n",
              "  </thead>\n",
              "  <tbody>\n",
              "    <tr>\n",
              "      <th>count</th>\n",
              "      <td>1000.000000</td>\n",
              "      <td>1000.000000</td>\n",
              "      <td>1000.000000</td>\n",
              "      <td>1000.000000</td>\n",
              "      <td>1000.000000</td>\n",
              "      <td>1000.000000</td>\n",
              "      <td>1000.000000</td>\n",
              "      <td>1000.000000</td>\n",
              "      <td>1000.000000</td>\n",
              "      <td>1000.000000</td>\n",
              "      <td>1000.000000</td>\n",
              "      <td>1000.000000</td>\n",
              "      <td>1000.000000</td>\n",
              "      <td>1000.000000</td>\n",
              "      <td>1000.000000</td>\n",
              "      <td>1000.000000</td>\n",
              "      <td>1000.000000</td>\n",
              "      <td>1000.000000</td>\n",
              "      <td>1000.000000</td>\n",
              "      <td>1000.000000</td>\n",
              "    </tr>\n",
              "    <tr>\n",
              "      <th>mean</th>\n",
              "      <td>0.370060</td>\n",
              "      <td>0.370060</td>\n",
              "      <td>1.129678</td>\n",
              "      <td>1999.674000</td>\n",
              "      <td>19984.195000</td>\n",
              "      <td>0.239764</td>\n",
              "      <td>0.374424</td>\n",
              "      <td>-0.348462</td>\n",
              "      <td>1.131027</td>\n",
              "      <td>-1.146386</td>\n",
              "      <td>0.473820</td>\n",
              "      <td>0.006392</td>\n",
              "      <td>0.003920</td>\n",
              "      <td>49201.336000</td>\n",
              "      <td>0.001026</td>\n",
              "      <td>0.020676</td>\n",
              "      <td>1.005000</td>\n",
              "      <td>0.253000</td>\n",
              "      <td>0.259000</td>\n",
              "      <td>0.236000</td>\n",
              "    </tr>\n",
              "    <tr>\n",
              "      <th>std</th>\n",
              "      <td>1.302333</td>\n",
              "      <td>1.302333</td>\n",
              "      <td>0.740893</td>\n",
              "      <td>573.885909</td>\n",
              "      <td>5724.618257</td>\n",
              "      <td>1.198307</td>\n",
              "      <td>1.299775</td>\n",
              "      <td>1.210806</td>\n",
              "      <td>0.743108</td>\n",
              "      <td>0.655409</td>\n",
              "      <td>0.498064</td>\n",
              "      <td>0.006016</td>\n",
              "      <td>0.004151</td>\n",
              "      <td>28458.202462</td>\n",
              "      <td>0.000159</td>\n",
              "      <td>0.003790</td>\n",
              "      <td>0.818318</td>\n",
              "      <td>0.434948</td>\n",
              "      <td>0.438305</td>\n",
              "      <td>0.424835</td>\n",
              "    </tr>\n",
              "    <tr>\n",
              "      <th>min</th>\n",
              "      <td>-2.470000</td>\n",
              "      <td>-2.470000</td>\n",
              "      <td>-0.019400</td>\n",
              "      <td>1001.000000</td>\n",
              "      <td>10013.000000</td>\n",
              "      <td>-2.489676</td>\n",
              "      <td>-2.472718</td>\n",
              "      <td>-4.123140</td>\n",
              "      <td>-0.005795</td>\n",
              "      <td>-4.184898</td>\n",
              "      <td>0.000000</td>\n",
              "      <td>0.001000</td>\n",
              "      <td>0.001000</td>\n",
              "      <td>536.000000</td>\n",
              "      <td>0.001000</td>\n",
              "      <td>0.012000</td>\n",
              "      <td>0.000000</td>\n",
              "      <td>0.000000</td>\n",
              "      <td>0.000000</td>\n",
              "      <td>0.000000</td>\n",
              "    </tr>\n",
              "    <tr>\n",
              "      <th>25%</th>\n",
              "      <td>-0.790000</td>\n",
              "      <td>-0.790000</td>\n",
              "      <td>0.596002</td>\n",
              "      <td>1508.750000</td>\n",
              "      <td>15023.750000</td>\n",
              "      <td>-0.804255</td>\n",
              "      <td>-0.785538</td>\n",
              "      <td>-1.276572</td>\n",
              "      <td>0.593977</td>\n",
              "      <td>-1.540317</td>\n",
              "      <td>0.000000</td>\n",
              "      <td>0.002000</td>\n",
              "      <td>0.001000</td>\n",
              "      <td>25603.500000</td>\n",
              "      <td>0.001000</td>\n",
              "      <td>0.019000</td>\n",
              "      <td>0.000000</td>\n",
              "      <td>0.000000</td>\n",
              "      <td>0.000000</td>\n",
              "      <td>0.000000</td>\n",
              "    </tr>\n",
              "    <tr>\n",
              "      <th>50%</th>\n",
              "      <td>0.320000</td>\n",
              "      <td>0.320000</td>\n",
              "      <td>0.996658</td>\n",
              "      <td>1983.500000</td>\n",
              "      <td>20011.000000</td>\n",
              "      <td>0.254294</td>\n",
              "      <td>0.334156</td>\n",
              "      <td>-0.476074</td>\n",
              "      <td>0.997598</td>\n",
              "      <td>-1.123967</td>\n",
              "      <td>0.000000</td>\n",
              "      <td>0.004000</td>\n",
              "      <td>0.002000</td>\n",
              "      <td>47308.500000</td>\n",
              "      <td>0.001000</td>\n",
              "      <td>0.021000</td>\n",
              "      <td>1.000000</td>\n",
              "      <td>0.000000</td>\n",
              "      <td>0.000000</td>\n",
              "      <td>0.000000</td>\n",
              "    </tr>\n",
              "    <tr>\n",
              "      <th>75%</th>\n",
              "      <td>1.390000</td>\n",
              "      <td>1.390000</td>\n",
              "      <td>1.545441</td>\n",
              "      <td>2498.250000</td>\n",
              "      <td>24793.250000</td>\n",
              "      <td>1.192069</td>\n",
              "      <td>1.390740</td>\n",
              "      <td>0.533964</td>\n",
              "      <td>1.548126</td>\n",
              "      <td>-0.669995</td>\n",
              "      <td>1.000000</td>\n",
              "      <td>0.009000</td>\n",
              "      <td>0.004000</td>\n",
              "      <td>73960.500000</td>\n",
              "      <td>0.001000</td>\n",
              "      <td>0.024000</td>\n",
              "      <td>2.000000</td>\n",
              "      <td>1.000000</td>\n",
              "      <td>1.000000</td>\n",
              "      <td>0.000000</td>\n",
              "    </tr>\n",
              "    <tr>\n",
              "      <th>max</th>\n",
              "      <td>4.050000</td>\n",
              "      <td>4.050000</td>\n",
              "      <td>4.048934</td>\n",
              "      <td>2999.000000</td>\n",
              "      <td>29986.000000</td>\n",
              "      <td>4.023495</td>\n",
              "      <td>4.048934</td>\n",
              "      <td>3.241353</td>\n",
              "      <td>4.048934</td>\n",
              "      <td>0.008893</td>\n",
              "      <td>1.000000</td>\n",
              "      <td>0.027000</td>\n",
              "      <td>0.020000</td>\n",
              "      <td>99853.000000</td>\n",
              "      <td>0.002000</td>\n",
              "      <td>0.027000</td>\n",
              "      <td>2.000000</td>\n",
              "      <td>1.000000</td>\n",
              "      <td>1.000000</td>\n",
              "      <td>1.000000</td>\n",
              "    </tr>\n",
              "  </tbody>\n",
              "</table>\n",
              "</div>\n",
              "    <div class=\"colab-df-buttons\">\n",
              "\n",
              "  <div class=\"colab-df-container\">\n",
              "    <button class=\"colab-df-convert\" onclick=\"convertToInteractive('df-347142d5-b484-475a-b963-0e9f67b7afff')\"\n",
              "            title=\"Convert this dataframe to an interactive table.\"\n",
              "            style=\"display:none;\">\n",
              "\n",
              "  <svg xmlns=\"http://www.w3.org/2000/svg\" height=\"24px\" viewBox=\"0 -960 960 960\">\n",
              "    <path d=\"M120-120v-720h720v720H120Zm60-500h600v-160H180v160Zm220 220h160v-160H400v160Zm0 220h160v-160H400v160ZM180-400h160v-160H180v160Zm440 0h160v-160H620v160ZM180-180h160v-160H180v160Zm440 0h160v-160H620v160Z\"/>\n",
              "  </svg>\n",
              "    </button>\n",
              "\n",
              "  <style>\n",
              "    .colab-df-container {\n",
              "      display:flex;\n",
              "      gap: 12px;\n",
              "    }\n",
              "\n",
              "    .colab-df-convert {\n",
              "      background-color: #E8F0FE;\n",
              "      border: none;\n",
              "      border-radius: 50%;\n",
              "      cursor: pointer;\n",
              "      display: none;\n",
              "      fill: #1967D2;\n",
              "      height: 32px;\n",
              "      padding: 0 0 0 0;\n",
              "      width: 32px;\n",
              "    }\n",
              "\n",
              "    .colab-df-convert:hover {\n",
              "      background-color: #E2EBFA;\n",
              "      box-shadow: 0px 1px 2px rgba(60, 64, 67, 0.3), 0px 1px 3px 1px rgba(60, 64, 67, 0.15);\n",
              "      fill: #174EA6;\n",
              "    }\n",
              "\n",
              "    .colab-df-buttons div {\n",
              "      margin-bottom: 4px;\n",
              "    }\n",
              "\n",
              "    [theme=dark] .colab-df-convert {\n",
              "      background-color: #3B4455;\n",
              "      fill: #D2E3FC;\n",
              "    }\n",
              "\n",
              "    [theme=dark] .colab-df-convert:hover {\n",
              "      background-color: #434B5C;\n",
              "      box-shadow: 0px 1px 3px 1px rgba(0, 0, 0, 0.15);\n",
              "      filter: drop-shadow(0px 1px 2px rgba(0, 0, 0, 0.3));\n",
              "      fill: #FFFFFF;\n",
              "    }\n",
              "  </style>\n",
              "\n",
              "    <script>\n",
              "      const buttonEl =\n",
              "        document.querySelector('#df-347142d5-b484-475a-b963-0e9f67b7afff button.colab-df-convert');\n",
              "      buttonEl.style.display =\n",
              "        google.colab.kernel.accessAllowed ? 'block' : 'none';\n",
              "\n",
              "      async function convertToInteractive(key) {\n",
              "        const element = document.querySelector('#df-347142d5-b484-475a-b963-0e9f67b7afff');\n",
              "        const dataTable =\n",
              "          await google.colab.kernel.invokeFunction('convertToInteractive',\n",
              "                                                    [key], {});\n",
              "        if (!dataTable) return;\n",
              "\n",
              "        const docLinkHtml = 'Like what you see? Visit the ' +\n",
              "          '<a target=\"_blank\" href=https://colab.research.google.com/notebooks/data_table.ipynb>data table notebook</a>'\n",
              "          + ' to learn more about interactive tables.';\n",
              "        element.innerHTML = '';\n",
              "        dataTable['output_type'] = 'display_data';\n",
              "        await google.colab.output.renderOutput(dataTable, element);\n",
              "        const docLink = document.createElement('div');\n",
              "        docLink.innerHTML = docLinkHtml;\n",
              "        element.appendChild(docLink);\n",
              "      }\n",
              "    </script>\n",
              "  </div>\n",
              "\n",
              "\n",
              "<div id=\"df-c48b84c6-23d8-47ba-b5f0-a5ffb7ed8f49\">\n",
              "  <button class=\"colab-df-quickchart\" onclick=\"quickchart('df-c48b84c6-23d8-47ba-b5f0-a5ffb7ed8f49')\"\n",
              "            title=\"Suggest charts\"\n",
              "            style=\"display:none;\">\n",
              "\n",
              "<svg xmlns=\"http://www.w3.org/2000/svg\" height=\"24px\"viewBox=\"0 0 24 24\"\n",
              "     width=\"24px\">\n",
              "    <g>\n",
              "        <path d=\"M19 3H5c-1.1 0-2 .9-2 2v14c0 1.1.9 2 2 2h14c1.1 0 2-.9 2-2V5c0-1.1-.9-2-2-2zM9 17H7v-7h2v7zm4 0h-2V7h2v10zm4 0h-2v-4h2v4z\"/>\n",
              "    </g>\n",
              "</svg>\n",
              "  </button>\n",
              "\n",
              "<style>\n",
              "  .colab-df-quickchart {\n",
              "      --bg-color: #E8F0FE;\n",
              "      --fill-color: #1967D2;\n",
              "      --hover-bg-color: #E2EBFA;\n",
              "      --hover-fill-color: #174EA6;\n",
              "      --disabled-fill-color: #AAA;\n",
              "      --disabled-bg-color: #DDD;\n",
              "  }\n",
              "\n",
              "  [theme=dark] .colab-df-quickchart {\n",
              "      --bg-color: #3B4455;\n",
              "      --fill-color: #D2E3FC;\n",
              "      --hover-bg-color: #434B5C;\n",
              "      --hover-fill-color: #FFFFFF;\n",
              "      --disabled-bg-color: #3B4455;\n",
              "      --disabled-fill-color: #666;\n",
              "  }\n",
              "\n",
              "  .colab-df-quickchart {\n",
              "    background-color: var(--bg-color);\n",
              "    border: none;\n",
              "    border-radius: 50%;\n",
              "    cursor: pointer;\n",
              "    display: none;\n",
              "    fill: var(--fill-color);\n",
              "    height: 32px;\n",
              "    padding: 0;\n",
              "    width: 32px;\n",
              "  }\n",
              "\n",
              "  .colab-df-quickchart:hover {\n",
              "    background-color: var(--hover-bg-color);\n",
              "    box-shadow: 0 1px 2px rgba(60, 64, 67, 0.3), 0 1px 3px 1px rgba(60, 64, 67, 0.15);\n",
              "    fill: var(--button-hover-fill-color);\n",
              "  }\n",
              "\n",
              "  .colab-df-quickchart-complete:disabled,\n",
              "  .colab-df-quickchart-complete:disabled:hover {\n",
              "    background-color: var(--disabled-bg-color);\n",
              "    fill: var(--disabled-fill-color);\n",
              "    box-shadow: none;\n",
              "  }\n",
              "\n",
              "  .colab-df-spinner {\n",
              "    border: 2px solid var(--fill-color);\n",
              "    border-color: transparent;\n",
              "    border-bottom-color: var(--fill-color);\n",
              "    animation:\n",
              "      spin 1s steps(1) infinite;\n",
              "  }\n",
              "\n",
              "  @keyframes spin {\n",
              "    0% {\n",
              "      border-color: transparent;\n",
              "      border-bottom-color: var(--fill-color);\n",
              "      border-left-color: var(--fill-color);\n",
              "    }\n",
              "    20% {\n",
              "      border-color: transparent;\n",
              "      border-left-color: var(--fill-color);\n",
              "      border-top-color: var(--fill-color);\n",
              "    }\n",
              "    30% {\n",
              "      border-color: transparent;\n",
              "      border-left-color: var(--fill-color);\n",
              "      border-top-color: var(--fill-color);\n",
              "      border-right-color: var(--fill-color);\n",
              "    }\n",
              "    40% {\n",
              "      border-color: transparent;\n",
              "      border-right-color: var(--fill-color);\n",
              "      border-top-color: var(--fill-color);\n",
              "    }\n",
              "    60% {\n",
              "      border-color: transparent;\n",
              "      border-right-color: var(--fill-color);\n",
              "    }\n",
              "    80% {\n",
              "      border-color: transparent;\n",
              "      border-right-color: var(--fill-color);\n",
              "      border-bottom-color: var(--fill-color);\n",
              "    }\n",
              "    90% {\n",
              "      border-color: transparent;\n",
              "      border-bottom-color: var(--fill-color);\n",
              "    }\n",
              "  }\n",
              "</style>\n",
              "\n",
              "  <script>\n",
              "    async function quickchart(key) {\n",
              "      const quickchartButtonEl =\n",
              "        document.querySelector('#' + key + ' button');\n",
              "      quickchartButtonEl.disabled = true;  // To prevent multiple clicks.\n",
              "      quickchartButtonEl.classList.add('colab-df-spinner');\n",
              "      try {\n",
              "        const charts = await google.colab.kernel.invokeFunction(\n",
              "            'suggestCharts', [key], {});\n",
              "      } catch (error) {\n",
              "        console.error('Error during call to suggestCharts:', error);\n",
              "      }\n",
              "      quickchartButtonEl.classList.remove('colab-df-spinner');\n",
              "      quickchartButtonEl.classList.add('colab-df-quickchart-complete');\n",
              "    }\n",
              "    (() => {\n",
              "      let quickchartButtonEl =\n",
              "        document.querySelector('#df-c48b84c6-23d8-47ba-b5f0-a5ffb7ed8f49 button');\n",
              "      quickchartButtonEl.style.display =\n",
              "        google.colab.kernel.accessAllowed ? 'block' : 'none';\n",
              "    })();\n",
              "  </script>\n",
              "</div>\n",
              "\n",
              "    </div>\n",
              "  </div>\n"
            ],
            "application/vnd.google.colaboratory.intrinsic+json": {
              "type": "dataframe",
              "summary": "{\n  \"name\": \"df\",\n  \"rows\": 8,\n  \"fields\": [\n    {\n      \"column\": \"Agricultural Knowledge\",\n      \"properties\": {\n        \"dtype\": \"number\",\n        \"std\": 353.3476071884843,\n        \"min\": -2.47,\n        \"max\": 1000.0,\n        \"num_unique_values\": 8,\n        \"samples\": [\n          0.37006,\n          0.32,\n          1000.0\n        ],\n        \"semantic_type\": \"\",\n        \"description\": \"\"\n      }\n    },\n    {\n      \"column\": \"Leadership\",\n      \"properties\": {\n        \"dtype\": \"number\",\n        \"std\": 353.3476071884843,\n        \"min\": -2.47,\n        \"max\": 1000.0,\n        \"num_unique_values\": 8,\n        \"samples\": [\n          0.37006,\n          0.32,\n          1000.0\n        ],\n        \"semantic_type\": \"\",\n        \"description\": \"\"\n      }\n    },\n    {\n      \"column\": \"Adaptabilityr\",\n      \"properties\": {\n        \"dtype\": \"number\",\n        \"std\": 353.0989730760034,\n        \"min\": -0.0194004384805241,\n        \"max\": 1000.0,\n        \"num_unique_values\": 8,\n        \"samples\": [\n          1.1296782972444868,\n          0.9966580139107916,\n          1000.0\n        ],\n        \"semantic_type\": \"\",\n        \"description\": \"\"\n      }\n    },\n    {\n      \"column\": \"Ethical Decision-Making\",\n      \"properties\": {\n        \"dtype\": \"number\",\n        \"std\": 826.1727478943209,\n        \"min\": 573.8859091847096,\n        \"max\": 2999.0,\n        \"num_unique_values\": 8,\n        \"samples\": [\n          1999.674,\n          1983.5,\n          1000.0\n        ],\n        \"semantic_type\": \"\",\n        \"description\": \"\"\n      }\n    },\n    {\n      \"column\": \"Mechanical Aptitude\",\n      \"properties\": {\n        \"dtype\": \"number\",\n        \"std\": 9797.98882456648,\n        \"min\": 1000.0,\n        \"max\": 29986.0,\n        \"num_unique_values\": 8,\n        \"samples\": [\n          19984.195,\n          20011.0,\n          1000.0\n        ],\n        \"semantic_type\": \"\",\n        \"description\": \"\"\n      }\n    },\n    {\n      \"column\": \"Genetic Diversity\",\n      \"properties\": {\n        \"dtype\": \"number\",\n        \"std\": 353.3757371243312,\n        \"min\": -2.489676343505811,\n        \"max\": 1000.0,\n        \"num_unique_values\": 8,\n        \"samples\": [\n          0.23976372004909285,\n          0.25429369813324604,\n          1000.0\n        ],\n        \"semantic_type\": \"\",\n        \"description\": \"\"\n      }\n    },\n    {\n      \"column\": \"Scientific and Technical Expertise\",\n      \"properties\": {\n        \"dtype\": \"number\",\n        \"std\": 353.3467263558612,\n        \"min\": -2.472717702217064,\n        \"max\": 1000.0,\n        \"num_unique_values\": 8,\n        \"samples\": [\n          0.3744239032556355,\n          0.33415575997023717,\n          1000.0\n        ],\n        \"semantic_type\": \"\",\n        \"description\": \"\"\n      }\n    },\n    {\n      \"column\": \"Mental Fortitude\",\n      \"properties\": {\n        \"dtype\": \"number\",\n        \"std\": 353.6221905187826,\n        \"min\": -4.123140161469619,\n        \"max\": 1000.0,\n        \"num_unique_values\": 8,\n        \"samples\": [\n          -0.34846218962694586,\n          -0.4760743964176297,\n          1000.0\n        ],\n        \"semantic_type\": \"\",\n        \"description\": \"\"\n      }\n    },\n    {\n      \"column\": \"Physical Health\",\n      \"properties\": {\n        \"dtype\": \"number\",\n        \"std\": 353.0980180859241,\n        \"min\": -0.0057949221395239,\n        \"max\": 1000.0,\n        \"num_unique_values\": 8,\n        \"samples\": [\n          1.1310267277922281,\n          0.9975979761628326,\n          1000.0\n        ],\n        \"semantic_type\": \"\",\n        \"description\": \"\"\n      }\n    },\n    {\n      \"column\": \"Resourcefulness\",\n      \"properties\": {\n        \"dtype\": \"number\",\n        \"std\": 353.96038008613067,\n        \"min\": -4.184897584288599,\n        \"max\": 1000.0,\n        \"num_unique_values\": 8,\n        \"samples\": [\n          -1.1463859291087888,\n          -1.123966866352847,\n          1000.0\n        ],\n        \"semantic_type\": \"\",\n        \"description\": \"\"\n      }\n    },\n    {\n      \"column\": \"binary\",\n      \"properties\": {\n        \"dtype\": \"number\",\n        \"std\": 353.4035324989585,\n        \"min\": 0.0,\n        \"max\": 1000.0,\n        \"num_unique_values\": 5,\n        \"samples\": [\n          0.47382,\n          1.0,\n          0.498064328852886\n        ],\n        \"semantic_type\": \"\",\n        \"description\": \"\"\n      }\n    },\n    {\n      \"column\": \"given_name\",\n      \"properties\": {\n        \"dtype\": \"number\",\n        \"std\": 353.5505921603687,\n        \"min\": 0.001,\n        \"max\": 1000.0,\n        \"num_unique_values\": 8,\n        \"samples\": [\n          0.006392000000000001,\n          0.004,\n          1000.0\n        ],\n        \"semantic_type\": \"\",\n        \"description\": \"\"\n      }\n    },\n    {\n      \"column\": \"surname\",\n      \"properties\": {\n        \"dtype\": \"number\",\n        \"std\": 353.55156876240284,\n        \"min\": 0.001,\n        \"max\": 1000.0,\n        \"num_unique_values\": 7,\n        \"samples\": [\n          1000.0,\n          0.003920000000000001,\n          0.004\n        ],\n        \"semantic_type\": \"\",\n        \"description\": \"\"\n      }\n    },\n    {\n      \"column\": \"zipcode\",\n      \"properties\": {\n        \"dtype\": \"number\",\n        \"std\": 34409.868159501806,\n        \"min\": 536.0,\n        \"max\": 99853.0,\n        \"num_unique_values\": 8,\n        \"samples\": [\n          49201.336,\n          47308.5,\n          1000.0\n        ],\n        \"semantic_type\": \"\",\n        \"description\": \"\"\n      }\n    },\n    {\n      \"column\": \"date_of_birth\",\n      \"properties\": {\n        \"dtype\": \"number\",\n        \"std\": 353.55302768546755,\n        \"min\": 0.00015921478998305827,\n        \"max\": 1000.0,\n        \"num_unique_values\": 5,\n        \"samples\": [\n          0.0010260000000000004,\n          0.002,\n          0.00015921478998305827\n        ],\n        \"semantic_type\": \"\",\n        \"description\": \"\"\n      }\n    },\n    {\n      \"column\": \"state\",\n      \"properties\": {\n        \"dtype\": \"number\",\n        \"std\": 353.5469526812646,\n        \"min\": 0.003789641854500948,\n        \"max\": 1000.0,\n        \"num_unique_values\": 8,\n        \"samples\": [\n          0.020676000000000003,\n          0.021,\n          1000.0\n        ],\n        \"semantic_type\": \"\",\n        \"description\": \"\"\n      }\n    },\n    {\n      \"column\": \"class\",\n      \"properties\": {\n        \"dtype\": \"number\",\n        \"std\": 353.2095756701534,\n        \"min\": 0.0,\n        \"max\": 1000.0,\n        \"num_unique_values\": 6,\n        \"samples\": [\n          1000.0,\n          1.005,\n          2.0\n        ],\n        \"semantic_type\": \"\",\n        \"description\": \"\"\n      }\n    },\n    {\n      \"column\": \"ohe_ohe_2\",\n      \"properties\": {\n        \"dtype\": \"number\",\n        \"std\": 353.41787547479476,\n        \"min\": 0.0,\n        \"max\": 1000.0,\n        \"num_unique_values\": 5,\n        \"samples\": [\n          0.253,\n          1.0,\n          0.43494847991478275\n        ],\n        \"semantic_type\": \"\",\n        \"description\": \"\"\n      }\n    },\n    {\n      \"column\": \"ohe_ohe_3\",\n      \"properties\": {\n        \"dtype\": \"number\",\n        \"std\": 353.417402667285,\n        \"min\": 0.0,\n        \"max\": 1000.0,\n        \"num_unique_values\": 5,\n        \"samples\": [\n          0.259,\n          1.0,\n          0.4383048152953731\n        ],\n        \"semantic_type\": \"\",\n        \"description\": \"\"\n      }\n    },\n    {\n      \"column\": \"ohe_ohe_4\",\n      \"properties\": {\n        \"dtype\": \"number\",\n        \"std\": 353.46967595136664,\n        \"min\": 0.0,\n        \"max\": 1000.0,\n        \"num_unique_values\": 5,\n        \"samples\": [\n          0.236,\n          1.0,\n          0.4248346554654934\n        ],\n        \"semantic_type\": \"\",\n        \"description\": \"\"\n      }\n    }\n  ]\n}"
            }
          },
          "metadata": {},
          "execution_count": 19
        }
      ]
    },
    {
      "cell_type": "markdown",
      "source": [
        "### Scaling and Outliers"
      ],
      "metadata": {
        "id": "HkjEcqrwzCUa"
      }
    },
    {
      "cell_type": "code",
      "source": [],
      "metadata": {
        "id": "_co4P8GkuSVY"
      },
      "execution_count": null,
      "outputs": []
    },
    {
      "cell_type": "code",
      "source": [],
      "metadata": {
        "id": "D32dV-ssuSo6"
      },
      "execution_count": null,
      "outputs": []
    },
    {
      "cell_type": "code",
      "source": [],
      "metadata": {
        "id": "Pm0x6cr3uS4A"
      },
      "execution_count": null,
      "outputs": []
    },
    {
      "cell_type": "code",
      "source": [
        "df = utils.functions.handle_standard_scaler(df)\n"
      ],
      "metadata": {
        "id": "SnpK6xNJuMM8"
      },
      "execution_count": null,
      "outputs": []
    },
    {
      "cell_type": "code",
      "source": [
        "df = utils.functions.handle_minmax_scaler(df)\n"
      ],
      "metadata": {
        "id": "2dTbSHTYuT9T"
      },
      "execution_count": null,
      "outputs": []
    },
    {
      "cell_type": "markdown",
      "source": [
        "## Modeling"
      ],
      "metadata": {
        "id": "XAY-ipOdzF2s"
      }
    },
    {
      "cell_type": "code",
      "source": [
        "from os import X_OK\n",
        "from sklearn.model_selection import train_test_split\n",
        "\n",
        "X_train, X_test, y_train, y_test = train_test_split(df.drop('class', axis=1), df['class'], test_size=0.25)"
      ],
      "metadata": {
        "id": "38GiqVAQucq2"
      },
      "execution_count": null,
      "outputs": []
    },
    {
      "cell_type": "markdown",
      "source": [
        "### Logistic Regression"
      ],
      "metadata": {
        "id": "rKu1Lya9zMsU"
      }
    },
    {
      "cell_type": "code",
      "source": [
        "from sklearn.linear_model import LogisticRegression\n",
        "from sklearn.metrics import accuracy_score, roc_auc_score, confusion_matrix, classification_report\n",
        "\n",
        "print(confusion_matrix(y_test, predictions))\n",
        "print(classification_report(y_test, predictions, labels=[0, 1]))\n",
        "\n",
        "model = LogisticRegression(solver='liblinear')\n",
        "model.fit(X_train,y_train)\n",
        "predictions = model.predict(X_test)\n",
        "\n",
        "print(accuracy_score(y_test, predictions))\n",
        "print(confusion_matrix(y_test, predictions))\n",
        "print(classification_report(y_test, predictions, labels=[0, 1]))"
      ],
      "metadata": {
        "colab": {
          "base_uri": "https://localhost:8080/"
        },
        "id": "yAxcnEjVv1Zg",
        "outputId": "689c7f98-b3d6-4182-b550-10ca9724f9d6"
      },
      "execution_count": null,
      "outputs": [
        {
          "output_type": "stream",
          "name": "stdout",
          "text": [
            "[[74 14  8]\n",
            " [ 1 69  0]\n",
            " [ 1  6 77]]\n",
            "              precision    recall  f1-score   support\n",
            "\n",
            "           0       0.97      0.77      0.86        96\n",
            "           1       0.78      0.99      0.87        70\n",
            "\n",
            "   micro avg       0.87      0.86      0.86       166\n",
            "   macro avg       0.87      0.88      0.86       166\n",
            "weighted avg       0.89      0.86      0.86       166\n",
            "\n",
            "0.884\n",
            "[[79 10  7]\n",
            " [ 3 67  0]\n",
            " [ 4  5 75]]\n",
            "              precision    recall  f1-score   support\n",
            "\n",
            "           0       0.92      0.82      0.87        96\n",
            "           1       0.82      0.96      0.88        70\n",
            "\n",
            "   micro avg       0.87      0.88      0.87       166\n",
            "   macro avg       0.87      0.89      0.87       166\n",
            "weighted avg       0.88      0.88      0.87       166\n",
            "\n"
          ]
        }
      ]
    },
    {
      "cell_type": "markdown",
      "source": [
        "### Grid Search"
      ],
      "metadata": {
        "id": "0zJ8BjdjQVnZ"
      }
    },
    {
      "cell_type": "code",
      "source": [
        "from sklearn.ensemble import RandomForestClassifier\n",
        "from sklearn.model_selection import GridSearchCV\n",
        "\n",
        "hyperparameters = {\n",
        "            'n_estimators': [50, 200],\n",
        "            'criterion': ['entropy', 'gini'],\n",
        "            'max_depth': [3, 4],\n",
        "            'max_leaf_nodes': [7, 9],\n",
        "            'bootstrap': [True, False]\n",
        "            }\n",
        "\n",
        "grid_search = GridSearchCV(estimator = RandomForestClassifier(),\n",
        "                           param_grid = hyperparameters,\n",
        "                           scoring = 'accuracy',\n",
        "                           cv = 10)\n",
        "\n",
        "grid_search = grid_search.fit(X_train, y_train)\n",
        "\n",
        "best_accuracy = grid_search.best_score_\n",
        "best_parameters = grid_search.best_params_\n",
        "\n",
        "print('best accuracy', best_accuracy)\n",
        "print('best parameters', best_parameters)"
      ],
      "metadata": {
        "colab": {
          "base_uri": "https://localhost:8080/"
        },
        "id": "XrNaO949xPdV",
        "outputId": "8481a708-e350-45a4-943b-2aa34268b524"
      },
      "execution_count": null,
      "outputs": [
        {
          "output_type": "stream",
          "name": "stdout",
          "text": [
            "best accuracy 0.8986666666666666\n",
            "best parameters {'bootstrap': True, 'criterion': 'gini', 'max_depth': 4, 'max_leaf_nodes': 9, 'n_estimators': 50}\n"
          ]
        }
      ]
    },
    {
      "cell_type": "markdown",
      "source": [
        "### Random Forest"
      ],
      "metadata": {
        "id": "ZNZxoPqQznfN"
      }
    },
    {
      "cell_type": "code",
      "source": [
        "from sklearn.ensemble import RandomForestClassifier\n",
        "from sklearn.metrics import accuracy_score\n",
        "\n",
        "model = RandomForestClassifier(random_state = 42).set_params(**best_parameters) # * args, ** kwargs\n",
        "model.fit(X_train, y_train)\n",
        "predictions = model.predict(X_test)\n",
        "print(accuracy_score(y_test, predictions))\n",
        "print(confusion_matrix(y_test, predictions))\n",
        "print(classification_report(y_test, predictions, labels=[0, 1]))"
      ],
      "metadata": {
        "colab": {
          "base_uri": "https://localhost:8080/"
        },
        "id": "KVrGMF60yj0E",
        "outputId": "dd2f9a0d-a852-46a2-e4c1-f73de15be0e1"
      },
      "execution_count": null,
      "outputs": [
        {
          "output_type": "stream",
          "name": "stdout",
          "text": [
            "0.88\n",
            "[[74 14  8]\n",
            " [ 1 69  0]\n",
            " [ 1  6 77]]\n",
            "              precision    recall  f1-score   support\n",
            "\n",
            "           0       0.97      0.77      0.86        96\n",
            "           1       0.78      0.99      0.87        70\n",
            "\n",
            "   micro avg       0.87      0.86      0.86       166\n",
            "   macro avg       0.87      0.88      0.86       166\n",
            "weighted avg       0.89      0.86      0.86       166\n",
            "\n"
          ]
        }
      ]
    },
    {
      "cell_type": "code",
      "source": [
        "from sklearn.model_selection import train_test_split\n",
        "\n",
        "# X_train, X_test split\n",
        "X_train, X_test, y_train, y_test = train_test_split(df.drop('class', axis=1), df['class'], test_size=0.30)"
      ],
      "metadata": {
        "id": "o4xT5P5jXdL-"
      },
      "execution_count": null,
      "outputs": []
    },
    {
      "cell_type": "markdown",
      "source": [
        "## Summary / Discussion\n",
        "\n",
        "* Wrapup this assignment by discussing accuracy and the true negatives, false positives, false negatives, and true positives\n",
        "* Include a summary of the classification report\n",
        "* These metrics should be used in context of your story"
      ],
      "metadata": {
        "id": "1HBTPQxWzrXX"
      }
    },
    {
      "cell_type": "code",
      "source": [
        "import matplotlib.pyplot as plt\n",
        "\n",
        "X_train[cols].hist()\n",
        "plt.tight_layout();"
      ],
      "metadata": {
        "colab": {
          "base_uri": "https://localhost:8080/",
          "height": 480
        },
        "id": "CpTAMyTtVwgA",
        "outputId": "b3079083-89ac-4daa-cdca-fad4cd4999f1"
      },
      "execution_count": null,
      "outputs": [
        {
          "output_type": "display_data",
          "data": {
            "text/plain": [
              "<Figure size 640x480 with 6 Axes>"
            ],
            "image/png": "[encoded data removed]"
          },
          "metadata": {}
        }
      ]
    },
    {
      "cell_type": "code",
      "source": [
        "# the heatmap\n",
        "import numpy as np\n",
        "import matplotlib.pyplot as plt\n",
        "import seaborn as sns\n",
        "\n",
        "sns.set(style='white')\n",
        "\n",
        "# Define your data headers (replace with actual names)\n",
        "data_headers = ['Adaptability', 'Resourcefulness', 'Physical Health',\n",
        "                'Scientific Expertise', 'Mental Fortitude', 'Genetic Diversity',\n",
        "                'Attribute 7', 'Attribute 8', 'Attribute 9', 'Attribute 10']\n",
        "\n",
        "# Generate random correlation matrix (adjust size based on number of headers)\n",
        "corr = np.random.rand(len(data_headers), len(data_headers))\n",
        "\n",
        "# Generate a mask for the upper triangle (only show upper half for clarity)\n",
        "mask = np.zeros_like(corr, dtype=bool)\n",
        "mask[np.triu_indices_from(mask)] = True\n",
        "\n",
        "# Set up the matplotlib figure\n",
        "f, ax = plt.subplots(figsize=(12, 12))  # Increased figure size for better readability\n",
        "\n",
        "# Generate a custom diverging colormap (highlights both positive & negative correlations)\n",
        "cmap = sns.diverging_palette(180, 300, as_cmap=True)  # Adjusted color palette hues\n",
        "\n",
        "# Draw the heatmap with the mask and correct aspect ratio\n",
        "sns.heatmap(corr, mask=mask, cmap=cmap, vmax=0.5, center=0,  # Adjusted maximum value\n",
        "            square=True, linewidths=.7, cbar_kws={'shrink': .6}, annot=True,\n",
        "            xticklabels=data_headers, yticklabels=data_headers);  # Added header labels"
      ],
      "metadata": {
        "colab": {
          "base_uri": "https://localhost:8080/",
          "height": 923
        },
        "id": "40ntpb9uX2dW",
        "outputId": "585e5c65-416e-4186-d8ce-d8e03b809537"
      },
      "execution_count": null,
      "outputs": [
        {
          "output_type": "display_data",
          "data": {
            "text/plain": [
              "<Figure size 1200x1200 with 2 Axes>"
            ],
            "image/png": "[encoded data removed]"
          },
          "metadata": {}
        }
      ]
    },
    {
      "cell_type": "code",
      "source": [
        "import pandas as pd\n",
        "import numpy as np\n",
        "from statsmodels.stats.outliers_influence import variance_inflation_factor\n",
        "\n",
        "feats_interest = cols  # Replace with your list of attributes\n",
        "vif_data = [variance_inflation_factor(X_train[feats_interest].values, i) for i in range(len(X_train[feats_interest].columns))]\n",
        "\n",
        "d = {'feature': X_train[feats_interest].columns.values, 'vif': vif_data}\n",
        "vif = pd.DataFrame(d)\n",
        "print(vif)"
      ],
      "metadata": {
        "colab": {
          "base_uri": "https://localhost:8080/"
        },
        "id": "JWMjXhy-ZeuO",
        "outputId": "b760912f-36a1-4a42-9943-a2476a962948"
      },
      "execution_count": null,
      "outputs": [
        {
          "output_type": "stream",
          "name": "stdout",
          "text": [
            "                              feature         vif\n",
            "0                       Adaptabilityr  311.026128\n",
            "1                     Resourcefulness    3.260840\n",
            "2                     Physical Health  315.209651\n",
            "3  Scientific and Technical Expertise    7.811887\n",
            "4                    Mental Fortitude   98.894809\n",
            "5                   Genetic Diversity  114.334971\n"
          ]
        }
      ]
    },
    {
      "cell_type": "code",
      "source": [
        "import pandas as pd\n",
        "import numpy as np\n",
        "from statsmodels.stats.outliers_influence import variance_inflation_factor\n",
        "\n",
        "feats_interest = cols  # Replace with your list of attributes\n",
        "vif_data = [variance_inflation_factor(X_train[feats_interest].values, i) for i in range(len(X_train[feats_interest].columns))]\n",
        "\n",
        "d = {'feature': X_train[feats_interest].columns.values, 'vif': vif_data}\n",
        "vif = pd.DataFrame(d)\n",
        "\n",
        "# Plot VIF scores as a bar graph (optional)\n",
        "vif.plot.bar(x='feature', y='vif', title='Variance Inflation Factor (VIF)', legend=False);"
      ],
      "metadata": {
        "colab": {
          "base_uri": "https://localhost:8080/",
          "height": 721
        },
        "id": "lYjHSInTZxY_",
        "outputId": "4910c75d-2115-41dd-85fd-b80db0631a21"
      },
      "execution_count": null,
      "outputs": [
        {
          "output_type": "display_data",
          "data": {
            "text/plain": [
              "<Figure size 640x480 with 1 Axes>"
            ],
            "image/png": "[encoded data removed]"
          },
          "metadata": {}
        }
      ]
    },
    {
      "cell_type": "markdown",
      "source": [
        "\n",
        "As the Data Rangers conclude their expedition, they gather around the central console of their ship to analyze the data they've gathered from the mysterious planet. Captain Orion, ever the vigilant leader, emphasizes the importance of accuracy in their findings—a crucial aspect of their mission to understand the secrets hidden within the data.\n",
        "\n",
        "With the aid of advanced algorithms and machine learning techniques, the Data Rangers begin to dissect the data, focusing on key metrics such as true negatives, false positives, false negatives, and true positives. These metrics serve as guiding stars in their quest for knowledge, illuminating the pathways to deeper understanding.\n",
        "\n",
        "True negatives represent instances where the data correctly identifies non-events—a reflection of the precision with which the Data Rangers navigate through the sea of information. False positives, on the other hand, highlight instances where the data mistakenly identifies events that did not occur—a reminder of the challenges inherent in interpreting complex datasets.\n",
        "\n",
        "As they delve deeper into the classification report, the Data Rangers reflect on the significance of false negatives—instances where the data fails to identify events that did occur. These missed opportunities serve as poignant reminders of the limitations of their current methods, spurring them on to seek new strategies and innovations in their pursuit of knowledge.\n",
        "\n",
        "Yet amidst the challenges and complexities of their mission, there are moments of triumph—moments captured in the true positives, where the data accurately identifies events that occurred. These victories, however small, serve as beacons of hope in the darkness, driving the Data Rangers ever forward in their quest for truth.\n",
        "\n",
        "With the classification report serving as a roadmap for their journey, the Data Rangers prepare to return home, their minds abuzz with the possibilities that lie ahead. As they bid farewell to the mysterious planet and set course for Veridium, they carry with them not only the data they've gathered but also the lessons learned from their expedition—a testament to the power of knowledge and the boundless potential of the human spirit."
      ],
      "metadata": {
        "id": "-s2VrAxS0V9l"
      }
    }
  ]
}